{
 "cells": [
  {
   "cell_type": "markdown",
   "id": "af846846",
   "metadata": {},
   "source": [
    "# 1. Loading"
   ]
  },
  {
   "cell_type": "markdown",
   "id": "c61d2b53",
   "metadata": {},
   "source": [
    "https://www.kaggle.com/datasets/milanvaddoriya/old-car-price-prediction"
   ]
  },
  {
   "cell_type": "code",
   "execution_count": 1,
   "id": "f71ba1c1",
   "metadata": {},
   "outputs": [],
   "source": [
    "import numpy as np\n",
    "import pandas as pd\n",
    "import matplotlib.pyplot as plt\n",
    "import seaborn as sns\n",
    "import warnings\n",
    "warnings.filterwarnings(action='ignore')"
   ]
  },
  {
   "cell_type": "code",
   "execution_count": 3,
   "id": "39d290ad",
   "metadata": {},
   "outputs": [
    {
     "data": {
      "text/html": [
       "<div>\n",
       "<style scoped>\n",
       "    .dataframe tbody tr th:only-of-type {\n",
       "        vertical-align: middle;\n",
       "    }\n",
       "\n",
       "    .dataframe tbody tr th {\n",
       "        vertical-align: top;\n",
       "    }\n",
       "\n",
       "    .dataframe thead th {\n",
       "        text-align: right;\n",
       "    }\n",
       "</style>\n",
       "<table border=\"1\" class=\"dataframe\">\n",
       "  <thead>\n",
       "    <tr style=\"text-align: right;\">\n",
       "      <th></th>\n",
       "      <th>Unnamed: 0</th>\n",
       "      <th>car_name</th>\n",
       "      <th>car_prices_in_rupee</th>\n",
       "      <th>kms_driven</th>\n",
       "      <th>fuel_type</th>\n",
       "      <th>transmission</th>\n",
       "      <th>ownership</th>\n",
       "      <th>manufacture</th>\n",
       "      <th>engine</th>\n",
       "      <th>Seats</th>\n",
       "    </tr>\n",
       "  </thead>\n",
       "  <tbody>\n",
       "    <tr>\n",
       "      <th>0</th>\n",
       "      <td>0</td>\n",
       "      <td>Jeep Compass 2.0 Longitude Option BSIV</td>\n",
       "      <td>10.03 Lakh</td>\n",
       "      <td>86,226 kms</td>\n",
       "      <td>Diesel</td>\n",
       "      <td>Manual</td>\n",
       "      <td>1st Owner</td>\n",
       "      <td>2017</td>\n",
       "      <td>1956 cc</td>\n",
       "      <td>5 Seats</td>\n",
       "    </tr>\n",
       "    <tr>\n",
       "      <th>1</th>\n",
       "      <td>1</td>\n",
       "      <td>Renault Duster RXZ Turbo CVT</td>\n",
       "      <td>12.83 Lakh</td>\n",
       "      <td>13,248 kms</td>\n",
       "      <td>Petrol</td>\n",
       "      <td>Automatic</td>\n",
       "      <td>1st Owner</td>\n",
       "      <td>2021</td>\n",
       "      <td>1330 cc</td>\n",
       "      <td>5 Seats</td>\n",
       "    </tr>\n",
       "  </tbody>\n",
       "</table>\n",
       "</div>"
      ],
      "text/plain": [
       "   Unnamed: 0                                car_name car_prices_in_rupee  \\\n",
       "0           0  Jeep Compass 2.0 Longitude Option BSIV          10.03 Lakh   \n",
       "1           1            Renault Duster RXZ Turbo CVT          12.83 Lakh   \n",
       "\n",
       "   kms_driven fuel_type transmission  ownership  manufacture   engine    Seats  \n",
       "0  86,226 kms    Diesel       Manual  1st Owner         2017  1956 cc  5 Seats  \n",
       "1  13,248 kms    Petrol    Automatic  1st Owner         2021  1330 cc  5 Seats  "
      ]
     },
     "execution_count": 3,
     "metadata": {},
     "output_type": "execute_result"
    }
   ],
   "source": [
    "file=pd.read_csv(\"car_price.csv.xls\")\n",
    "file.head(2)"
   ]
  },
  {
   "cell_type": "markdown",
   "id": "64fba6fb",
   "metadata": {},
   "source": [
    "# 2. Dropping unnecessary columns"
   ]
  },
  {
   "cell_type": "markdown",
   "id": "58e29f77",
   "metadata": {},
   "source": [
    "first column is just an index column."
   ]
  },
  {
   "cell_type": "code",
   "execution_count": 4,
   "id": "d5a3539a",
   "metadata": {},
   "outputs": [],
   "source": [
    "df=file.drop(columns='Unnamed: 0').copy()"
   ]
  },
  {
   "cell_type": "code",
   "execution_count": 5,
   "id": "fcf4896c",
   "metadata": {},
   "outputs": [
    {
     "data": {
      "text/html": [
       "<div>\n",
       "<style scoped>\n",
       "    .dataframe tbody tr th:only-of-type {\n",
       "        vertical-align: middle;\n",
       "    }\n",
       "\n",
       "    .dataframe tbody tr th {\n",
       "        vertical-align: top;\n",
       "    }\n",
       "\n",
       "    .dataframe thead th {\n",
       "        text-align: right;\n",
       "    }\n",
       "</style>\n",
       "<table border=\"1\" class=\"dataframe\">\n",
       "  <thead>\n",
       "    <tr style=\"text-align: right;\">\n",
       "      <th></th>\n",
       "      <th>car_name</th>\n",
       "      <th>car_prices_in_rupee</th>\n",
       "      <th>kms_driven</th>\n",
       "      <th>fuel_type</th>\n",
       "      <th>transmission</th>\n",
       "      <th>ownership</th>\n",
       "      <th>manufacture</th>\n",
       "      <th>engine</th>\n",
       "      <th>Seats</th>\n",
       "    </tr>\n",
       "  </thead>\n",
       "  <tbody>\n",
       "    <tr>\n",
       "      <th>0</th>\n",
       "      <td>Jeep Compass 2.0 Longitude Option BSIV</td>\n",
       "      <td>10.03 Lakh</td>\n",
       "      <td>86,226 kms</td>\n",
       "      <td>Diesel</td>\n",
       "      <td>Manual</td>\n",
       "      <td>1st Owner</td>\n",
       "      <td>2017</td>\n",
       "      <td>1956 cc</td>\n",
       "      <td>5 Seats</td>\n",
       "    </tr>\n",
       "    <tr>\n",
       "      <th>1</th>\n",
       "      <td>Renault Duster RXZ Turbo CVT</td>\n",
       "      <td>12.83 Lakh</td>\n",
       "      <td>13,248 kms</td>\n",
       "      <td>Petrol</td>\n",
       "      <td>Automatic</td>\n",
       "      <td>1st Owner</td>\n",
       "      <td>2021</td>\n",
       "      <td>1330 cc</td>\n",
       "      <td>5 Seats</td>\n",
       "    </tr>\n",
       "  </tbody>\n",
       "</table>\n",
       "</div>"
      ],
      "text/plain": [
       "                                 car_name car_prices_in_rupee  kms_driven  \\\n",
       "0  Jeep Compass 2.0 Longitude Option BSIV          10.03 Lakh  86,226 kms   \n",
       "1            Renault Duster RXZ Turbo CVT          12.83 Lakh  13,248 kms   \n",
       "\n",
       "  fuel_type transmission  ownership  manufacture   engine    Seats  \n",
       "0    Diesel       Manual  1st Owner         2017  1956 cc  5 Seats  \n",
       "1    Petrol    Automatic  1st Owner         2021  1330 cc  5 Seats  "
      ]
     },
     "execution_count": 5,
     "metadata": {},
     "output_type": "execute_result"
    }
   ],
   "source": [
    "df.head(2)"
   ]
  },
  {
   "cell_type": "markdown",
   "id": "6cae8042",
   "metadata": {},
   "source": [
    "# 3. General details on the dataset"
   ]
  },
  {
   "cell_type": "code",
   "execution_count": 6,
   "id": "d9f34473",
   "metadata": {},
   "outputs": [
    {
     "data": {
      "text/plain": [
       "(5512, 9)"
      ]
     },
     "execution_count": 6,
     "metadata": {},
     "output_type": "execute_result"
    }
   ],
   "source": [
    "df.shape"
   ]
  },
  {
   "cell_type": "code",
   "execution_count": 7,
   "id": "df9023ea",
   "metadata": {},
   "outputs": [
    {
     "name": "stdout",
     "output_type": "stream",
     "text": [
      "<class 'pandas.core.frame.DataFrame'>\n",
      "RangeIndex: 5512 entries, 0 to 5511\n",
      "Data columns (total 9 columns):\n",
      " #   Column               Non-Null Count  Dtype \n",
      "---  ------               --------------  ----- \n",
      " 0   car_name             5512 non-null   object\n",
      " 1   car_prices_in_rupee  5512 non-null   object\n",
      " 2   kms_driven           5512 non-null   object\n",
      " 3   fuel_type            5512 non-null   object\n",
      " 4   transmission         5512 non-null   object\n",
      " 5   ownership            5512 non-null   object\n",
      " 6   manufacture          5512 non-null   int64 \n",
      " 7   engine               5512 non-null   object\n",
      " 8   Seats                5512 non-null   object\n",
      "dtypes: int64(1), object(8)\n",
      "memory usage: 387.7+ KB\n"
     ]
    }
   ],
   "source": [
    "df.info()"
   ]
  },
  {
   "cell_type": "code",
   "execution_count": 7,
   "id": "e4a1aa66",
   "metadata": {},
   "outputs": [
    {
     "data": {
      "text/html": [
       "<div>\n",
       "<style scoped>\n",
       "    .dataframe tbody tr th:only-of-type {\n",
       "        vertical-align: middle;\n",
       "    }\n",
       "\n",
       "    .dataframe tbody tr th {\n",
       "        vertical-align: top;\n",
       "    }\n",
       "\n",
       "    .dataframe thead th {\n",
       "        text-align: right;\n",
       "    }\n",
       "</style>\n",
       "<table border=\"1\" class=\"dataframe\">\n",
       "  <thead>\n",
       "    <tr style=\"text-align: right;\">\n",
       "      <th></th>\n",
       "      <th>manufacture</th>\n",
       "    </tr>\n",
       "  </thead>\n",
       "  <tbody>\n",
       "    <tr>\n",
       "      <th>count</th>\n",
       "      <td>5512.000000</td>\n",
       "    </tr>\n",
       "    <tr>\n",
       "      <th>mean</th>\n",
       "      <td>2015.455552</td>\n",
       "    </tr>\n",
       "    <tr>\n",
       "      <th>std</th>\n",
       "      <td>3.927974</td>\n",
       "    </tr>\n",
       "    <tr>\n",
       "      <th>min</th>\n",
       "      <td>1995.000000</td>\n",
       "    </tr>\n",
       "    <tr>\n",
       "      <th>25%</th>\n",
       "      <td>2013.000000</td>\n",
       "    </tr>\n",
       "    <tr>\n",
       "      <th>50%</th>\n",
       "      <td>2016.000000</td>\n",
       "    </tr>\n",
       "    <tr>\n",
       "      <th>75%</th>\n",
       "      <td>2018.000000</td>\n",
       "    </tr>\n",
       "    <tr>\n",
       "      <th>max</th>\n",
       "      <td>2022.000000</td>\n",
       "    </tr>\n",
       "  </tbody>\n",
       "</table>\n",
       "</div>"
      ],
      "text/plain": [
       "       manufacture\n",
       "count  5512.000000\n",
       "mean   2015.455552\n",
       "std       3.927974\n",
       "min    1995.000000\n",
       "25%    2013.000000\n",
       "50%    2016.000000\n",
       "75%    2018.000000\n",
       "max    2022.000000"
      ]
     },
     "execution_count": 7,
     "metadata": {},
     "output_type": "execute_result"
    }
   ],
   "source": [
    "df.describe()"
   ]
  },
  {
   "cell_type": "code",
   "execution_count": 8,
   "id": "3b212c6d",
   "metadata": {
    "scrolled": true
   },
   "outputs": [
    {
     "data": {
      "text/html": [
       "<div>\n",
       "<style scoped>\n",
       "    .dataframe tbody tr th:only-of-type {\n",
       "        vertical-align: middle;\n",
       "    }\n",
       "\n",
       "    .dataframe tbody tr th {\n",
       "        vertical-align: top;\n",
       "    }\n",
       "\n",
       "    .dataframe thead th {\n",
       "        text-align: right;\n",
       "    }\n",
       "</style>\n",
       "<table border=\"1\" class=\"dataframe\">\n",
       "  <thead>\n",
       "    <tr style=\"text-align: right;\">\n",
       "      <th></th>\n",
       "      <th>car_name</th>\n",
       "      <th>car_prices_in_rupee</th>\n",
       "      <th>kms_driven</th>\n",
       "      <th>fuel_type</th>\n",
       "      <th>transmission</th>\n",
       "      <th>ownership</th>\n",
       "      <th>engine</th>\n",
       "      <th>Seats</th>\n",
       "    </tr>\n",
       "  </thead>\n",
       "  <tbody>\n",
       "    <tr>\n",
       "      <th>count</th>\n",
       "      <td>5512</td>\n",
       "      <td>5512</td>\n",
       "      <td>5512</td>\n",
       "      <td>5512</td>\n",
       "      <td>5512</td>\n",
       "      <td>5512</td>\n",
       "      <td>5512</td>\n",
       "      <td>5512</td>\n",
       "    </tr>\n",
       "    <tr>\n",
       "      <th>unique</th>\n",
       "      <td>1896</td>\n",
       "      <td>1300</td>\n",
       "      <td>2610</td>\n",
       "      <td>5</td>\n",
       "      <td>2</td>\n",
       "      <td>6</td>\n",
       "      <td>139</td>\n",
       "      <td>6</td>\n",
       "    </tr>\n",
       "    <tr>\n",
       "      <th>top</th>\n",
       "      <td>Maruti Alto 800 LXI</td>\n",
       "      <td>4.50 Lakh</td>\n",
       "      <td>80,000 kms</td>\n",
       "      <td>Petrol</td>\n",
       "      <td>Manual</td>\n",
       "      <td>1st Owner</td>\n",
       "      <td>1197 cc</td>\n",
       "      <td>5 Seats</td>\n",
       "    </tr>\n",
       "    <tr>\n",
       "      <th>freq</th>\n",
       "      <td>53</td>\n",
       "      <td>62</td>\n",
       "      <td>163</td>\n",
       "      <td>2967</td>\n",
       "      <td>3962</td>\n",
       "      <td>3736</td>\n",
       "      <td>714</td>\n",
       "      <td>4673</td>\n",
       "    </tr>\n",
       "  </tbody>\n",
       "</table>\n",
       "</div>"
      ],
      "text/plain": [
       "                   car_name car_prices_in_rupee  kms_driven fuel_type  \\\n",
       "count                  5512                5512        5512      5512   \n",
       "unique                 1896                1300        2610         5   \n",
       "top     Maruti Alto 800 LXI           4.50 Lakh  80,000 kms    Petrol   \n",
       "freq                     53                  62         163      2967   \n",
       "\n",
       "       transmission  ownership   engine    Seats  \n",
       "count          5512       5512     5512     5512  \n",
       "unique            2          6      139        6  \n",
       "top          Manual  1st Owner  1197 cc  5 Seats  \n",
       "freq           3962       3736      714     4673  "
      ]
     },
     "execution_count": 8,
     "metadata": {},
     "output_type": "execute_result"
    }
   ],
   "source": [
    "df.describe(include='object')"
   ]
  },
  {
   "cell_type": "code",
   "execution_count": 9,
   "id": "59a75f1e",
   "metadata": {},
   "outputs": [
    {
     "data": {
      "text/plain": [
       "car_name               0\n",
       "car_prices_in_rupee    0\n",
       "kms_driven             0\n",
       "fuel_type              0\n",
       "transmission           0\n",
       "ownership              0\n",
       "manufacture            0\n",
       "engine                 0\n",
       "Seats                  0\n",
       "dtype: int64"
      ]
     },
     "execution_count": 9,
     "metadata": {},
     "output_type": "execute_result"
    }
   ],
   "source": [
    "df.isnull().sum()"
   ]
  },
  {
   "cell_type": "markdown",
   "id": "80260461",
   "metadata": {},
   "source": [
    "# 4. Renaming columns for readability"
   ]
  },
  {
   "cell_type": "markdown",
   "id": "e2f59d23",
   "metadata": {},
   "source": [
    "gave observation parameters in the column name itself"
   ]
  },
  {
   "cell_type": "code",
   "execution_count": 10,
   "id": "e9715830",
   "metadata": {},
   "outputs": [
    {
     "name": "stdout",
     "output_type": "stream",
     "text": [
      "<class 'pandas.core.frame.DataFrame'>\n",
      "RangeIndex: 5512 entries, 0 to 5511\n",
      "Data columns (total 9 columns):\n",
      " #   Column               Non-Null Count  Dtype \n",
      "---  ------               --------------  ----- \n",
      " 0   car_name             5512 non-null   object\n",
      " 1   car_prices_in_rupee  5512 non-null   object\n",
      " 2   kms_driven           5512 non-null   object\n",
      " 3   fuel_type            5512 non-null   object\n",
      " 4   transmission         5512 non-null   object\n",
      " 5   ownership            5512 non-null   object\n",
      " 6   manufacture          5512 non-null   int64 \n",
      " 7   engine               5512 non-null   object\n",
      " 8   Seats                5512 non-null   object\n",
      "dtypes: int64(1), object(8)\n",
      "memory usage: 387.7+ KB\n"
     ]
    }
   ],
   "source": [
    "df.info()"
   ]
  },
  {
   "cell_type": "code",
   "execution_count": 11,
   "id": "17f697f3",
   "metadata": {},
   "outputs": [],
   "source": [
    "df.rename(columns={'car_prices_in_rupee':'price', 'engine':'engine_cc'}, inplace=True)"
   ]
  },
  {
   "cell_type": "code",
   "execution_count": 12,
   "id": "fe082833",
   "metadata": {},
   "outputs": [
    {
     "data": {
      "text/html": [
       "<div>\n",
       "<style scoped>\n",
       "    .dataframe tbody tr th:only-of-type {\n",
       "        vertical-align: middle;\n",
       "    }\n",
       "\n",
       "    .dataframe tbody tr th {\n",
       "        vertical-align: top;\n",
       "    }\n",
       "\n",
       "    .dataframe thead th {\n",
       "        text-align: right;\n",
       "    }\n",
       "</style>\n",
       "<table border=\"1\" class=\"dataframe\">\n",
       "  <thead>\n",
       "    <tr style=\"text-align: right;\">\n",
       "      <th></th>\n",
       "      <th>car_name</th>\n",
       "      <th>price</th>\n",
       "      <th>kms_driven</th>\n",
       "      <th>fuel_type</th>\n",
       "      <th>transmission</th>\n",
       "      <th>ownership</th>\n",
       "      <th>manufacture</th>\n",
       "      <th>engine_cc</th>\n",
       "      <th>Seats</th>\n",
       "    </tr>\n",
       "  </thead>\n",
       "  <tbody>\n",
       "    <tr>\n",
       "      <th>0</th>\n",
       "      <td>Jeep Compass 2.0 Longitude Option BSIV</td>\n",
       "      <td>10.03 Lakh</td>\n",
       "      <td>86,226 kms</td>\n",
       "      <td>Diesel</td>\n",
       "      <td>Manual</td>\n",
       "      <td>1st Owner</td>\n",
       "      <td>2017</td>\n",
       "      <td>1956 cc</td>\n",
       "      <td>5 Seats</td>\n",
       "    </tr>\n",
       "    <tr>\n",
       "      <th>1</th>\n",
       "      <td>Renault Duster RXZ Turbo CVT</td>\n",
       "      <td>12.83 Lakh</td>\n",
       "      <td>13,248 kms</td>\n",
       "      <td>Petrol</td>\n",
       "      <td>Automatic</td>\n",
       "      <td>1st Owner</td>\n",
       "      <td>2021</td>\n",
       "      <td>1330 cc</td>\n",
       "      <td>5 Seats</td>\n",
       "    </tr>\n",
       "  </tbody>\n",
       "</table>\n",
       "</div>"
      ],
      "text/plain": [
       "                                 car_name       price  kms_driven fuel_type  \\\n",
       "0  Jeep Compass 2.0 Longitude Option BSIV  10.03 Lakh  86,226 kms    Diesel   \n",
       "1            Renault Duster RXZ Turbo CVT  12.83 Lakh  13,248 kms    Petrol   \n",
       "\n",
       "  transmission  ownership  manufacture engine_cc    Seats  \n",
       "0       Manual  1st Owner         2017   1956 cc  5 Seats  \n",
       "1    Automatic  1st Owner         2021   1330 cc  5 Seats  "
      ]
     },
     "execution_count": 12,
     "metadata": {},
     "output_type": "execute_result"
    }
   ],
   "source": [
    "df.head(2)"
   ]
  },
  {
   "cell_type": "markdown",
   "id": "20ff2b00",
   "metadata": {},
   "source": [
    "# 5. Dropping duplicates"
   ]
  },
  {
   "cell_type": "code",
   "execution_count": 13,
   "id": "adc1e831",
   "metadata": {},
   "outputs": [
    {
     "data": {
      "text/plain": [
       "76"
      ]
     },
     "execution_count": 13,
     "metadata": {},
     "output_type": "execute_result"
    }
   ],
   "source": [
    "df.duplicated().sum()"
   ]
  },
  {
   "cell_type": "code",
   "execution_count": 14,
   "id": "024f5a60",
   "metadata": {},
   "outputs": [
    {
     "data": {
      "text/html": [
       "<div>\n",
       "<style scoped>\n",
       "    .dataframe tbody tr th:only-of-type {\n",
       "        vertical-align: middle;\n",
       "    }\n",
       "\n",
       "    .dataframe tbody tr th {\n",
       "        vertical-align: top;\n",
       "    }\n",
       "\n",
       "    .dataframe thead th {\n",
       "        text-align: right;\n",
       "    }\n",
       "</style>\n",
       "<table border=\"1\" class=\"dataframe\">\n",
       "  <thead>\n",
       "    <tr style=\"text-align: right;\">\n",
       "      <th></th>\n",
       "      <th>car_name</th>\n",
       "      <th>price</th>\n",
       "      <th>kms_driven</th>\n",
       "      <th>fuel_type</th>\n",
       "      <th>transmission</th>\n",
       "      <th>ownership</th>\n",
       "      <th>manufacture</th>\n",
       "      <th>engine_cc</th>\n",
       "      <th>Seats</th>\n",
       "    </tr>\n",
       "  </thead>\n",
       "  <tbody>\n",
       "    <tr>\n",
       "      <th>1151</th>\n",
       "      <td>Audi Q5 3.0 TDI Quattro</td>\n",
       "      <td>9.95 Lakh</td>\n",
       "      <td>68,000 kms</td>\n",
       "      <td>Diesel</td>\n",
       "      <td>Automatic</td>\n",
       "      <td>3rd Owner</td>\n",
       "      <td>2011</td>\n",
       "      <td>2967 cc</td>\n",
       "      <td>5 Seats</td>\n",
       "    </tr>\n",
       "    <tr>\n",
       "      <th>1297</th>\n",
       "      <td>Mercedes-Benz GLS 350d Grand Edition</td>\n",
       "      <td>59.50 Lakh</td>\n",
       "      <td>45,000 kms</td>\n",
       "      <td>Diesel</td>\n",
       "      <td>Automatic</td>\n",
       "      <td>2nd Owner</td>\n",
       "      <td>2016</td>\n",
       "      <td>2499 cc</td>\n",
       "      <td>5 Seats</td>\n",
       "    </tr>\n",
       "    <tr>\n",
       "      <th>1351</th>\n",
       "      <td>Honda Jazz 1.2 V AT i VTEC</td>\n",
       "      <td>6.90 Lakh</td>\n",
       "      <td>27,200 kms</td>\n",
       "      <td>Petrol</td>\n",
       "      <td>Automatic</td>\n",
       "      <td>1st Owner</td>\n",
       "      <td>2017</td>\n",
       "      <td>1462 cc</td>\n",
       "      <td>5 Seats</td>\n",
       "    </tr>\n",
       "    <tr>\n",
       "      <th>1352</th>\n",
       "      <td>Mahindra Thar CRDe</td>\n",
       "      <td>7.72 Lakh</td>\n",
       "      <td>46,365 kms</td>\n",
       "      <td>Diesel</td>\n",
       "      <td>Manual</td>\n",
       "      <td>1st Owner</td>\n",
       "      <td>2017</td>\n",
       "      <td>1461 cc</td>\n",
       "      <td>5 Seats</td>\n",
       "    </tr>\n",
       "    <tr>\n",
       "      <th>1353</th>\n",
       "      <td>Maruti Ciaz Alpha BSIV</td>\n",
       "      <td>8.72 Lakh</td>\n",
       "      <td>82,496 kms</td>\n",
       "      <td>Petrol</td>\n",
       "      <td>Manual</td>\n",
       "      <td>1st Owner</td>\n",
       "      <td>2019</td>\n",
       "      <td>1248 cc</td>\n",
       "      <td>5 Seats</td>\n",
       "    </tr>\n",
       "    <tr>\n",
       "      <th>...</th>\n",
       "      <td>...</td>\n",
       "      <td>...</td>\n",
       "      <td>...</td>\n",
       "      <td>...</td>\n",
       "      <td>...</td>\n",
       "      <td>...</td>\n",
       "      <td>...</td>\n",
       "      <td>...</td>\n",
       "      <td>...</td>\n",
       "    </tr>\n",
       "    <tr>\n",
       "      <th>5301</th>\n",
       "      <td>Mercedes-Benz E-Class E250 CDI Avantgarde</td>\n",
       "      <td>25.90 Lakh</td>\n",
       "      <td>60,625 kms</td>\n",
       "      <td>Diesel</td>\n",
       "      <td>Automatic</td>\n",
       "      <td>2nd Owner</td>\n",
       "      <td>2016</td>\n",
       "      <td>1197 cc</td>\n",
       "      <td>5 Seats</td>\n",
       "    </tr>\n",
       "    <tr>\n",
       "      <th>5318</th>\n",
       "      <td>Mercedes-Benz E-Class Exclusive E 220d</td>\n",
       "      <td>76.25 Lakh</td>\n",
       "      <td>2,000 kms</td>\n",
       "      <td>Diesel</td>\n",
       "      <td>Automatic</td>\n",
       "      <td>1st Owner</td>\n",
       "      <td>2022</td>\n",
       "      <td>1950 cc</td>\n",
       "      <td>5 Seats</td>\n",
       "    </tr>\n",
       "    <tr>\n",
       "      <th>5322</th>\n",
       "      <td>BMW X3 xDrive 20d Luxury Line</td>\n",
       "      <td>60 Lakh</td>\n",
       "      <td>19,000 kms</td>\n",
       "      <td>Diesel</td>\n",
       "      <td>Automatic</td>\n",
       "      <td>1st Owner</td>\n",
       "      <td>2021</td>\n",
       "      <td>1997 cc</td>\n",
       "      <td>5 Seats</td>\n",
       "    </tr>\n",
       "    <tr>\n",
       "      <th>5338</th>\n",
       "      <td>Volvo S90 D4 Inscription BSIV</td>\n",
       "      <td>44.75 Lakh</td>\n",
       "      <td>20,000 kms</td>\n",
       "      <td>Diesel</td>\n",
       "      <td>Automatic</td>\n",
       "      <td>1st Owner</td>\n",
       "      <td>2018</td>\n",
       "      <td>1950 cc</td>\n",
       "      <td>5 Seats</td>\n",
       "    </tr>\n",
       "    <tr>\n",
       "      <th>5493</th>\n",
       "      <td>Land Rover Discovery Sport TD4 HSE 7S</td>\n",
       "      <td>48.75 Lakh</td>\n",
       "      <td>38,000 kms</td>\n",
       "      <td>Diesel</td>\n",
       "      <td>Automatic</td>\n",
       "      <td>1st Owner</td>\n",
       "      <td>2020</td>\n",
       "      <td>1197 cc</td>\n",
       "      <td>5 Seats</td>\n",
       "    </tr>\n",
       "  </tbody>\n",
       "</table>\n",
       "<p>76 rows × 9 columns</p>\n",
       "</div>"
      ],
      "text/plain": [
       "                                       car_name       price  kms_driven  \\\n",
       "1151                    Audi Q5 3.0 TDI Quattro   9.95 Lakh  68,000 kms   \n",
       "1297       Mercedes-Benz GLS 350d Grand Edition  59.50 Lakh  45,000 kms   \n",
       "1351                 Honda Jazz 1.2 V AT i VTEC   6.90 Lakh  27,200 kms   \n",
       "1352                         Mahindra Thar CRDe   7.72 Lakh  46,365 kms   \n",
       "1353                     Maruti Ciaz Alpha BSIV   8.72 Lakh  82,496 kms   \n",
       "...                                         ...         ...         ...   \n",
       "5301  Mercedes-Benz E-Class E250 CDI Avantgarde  25.90 Lakh  60,625 kms   \n",
       "5318     Mercedes-Benz E-Class Exclusive E 220d  76.25 Lakh   2,000 kms   \n",
       "5322              BMW X3 xDrive 20d Luxury Line     60 Lakh  19,000 kms   \n",
       "5338              Volvo S90 D4 Inscription BSIV  44.75 Lakh  20,000 kms   \n",
       "5493      Land Rover Discovery Sport TD4 HSE 7S  48.75 Lakh  38,000 kms   \n",
       "\n",
       "     fuel_type transmission  ownership  manufacture engine_cc    Seats  \n",
       "1151    Diesel    Automatic  3rd Owner         2011   2967 cc  5 Seats  \n",
       "1297    Diesel    Automatic  2nd Owner         2016   2499 cc  5 Seats  \n",
       "1351    Petrol    Automatic  1st Owner         2017   1462 cc  5 Seats  \n",
       "1352    Diesel       Manual  1st Owner         2017   1461 cc  5 Seats  \n",
       "1353    Petrol       Manual  1st Owner         2019   1248 cc  5 Seats  \n",
       "...        ...          ...        ...          ...       ...      ...  \n",
       "5301    Diesel    Automatic  2nd Owner         2016   1197 cc  5 Seats  \n",
       "5318    Diesel    Automatic  1st Owner         2022   1950 cc  5 Seats  \n",
       "5322    Diesel    Automatic  1st Owner         2021   1997 cc  5 Seats  \n",
       "5338    Diesel    Automatic  1st Owner         2018   1950 cc  5 Seats  \n",
       "5493    Diesel    Automatic  1st Owner         2020   1197 cc  5 Seats  \n",
       "\n",
       "[76 rows x 9 columns]"
      ]
     },
     "execution_count": 14,
     "metadata": {},
     "output_type": "execute_result"
    }
   ],
   "source": [
    "df[df.duplicated(keep=\"first\")==True] #gives last duplicates"
   ]
  },
  {
   "cell_type": "code",
   "execution_count": 15,
   "id": "6e69058f",
   "metadata": {},
   "outputs": [],
   "source": [
    "df.drop_duplicates(keep=\"first\",inplace=True)"
   ]
  },
  {
   "cell_type": "code",
   "execution_count": 16,
   "id": "29d0a0e4",
   "metadata": {
    "scrolled": true
   },
   "outputs": [
    {
     "data": {
      "text/html": [
       "<div>\n",
       "<style scoped>\n",
       "    .dataframe tbody tr th:only-of-type {\n",
       "        vertical-align: middle;\n",
       "    }\n",
       "\n",
       "    .dataframe tbody tr th {\n",
       "        vertical-align: top;\n",
       "    }\n",
       "\n",
       "    .dataframe thead th {\n",
       "        text-align: right;\n",
       "    }\n",
       "</style>\n",
       "<table border=\"1\" class=\"dataframe\">\n",
       "  <thead>\n",
       "    <tr style=\"text-align: right;\">\n",
       "      <th></th>\n",
       "      <th>car_name</th>\n",
       "      <th>price</th>\n",
       "      <th>kms_driven</th>\n",
       "      <th>fuel_type</th>\n",
       "      <th>transmission</th>\n",
       "      <th>ownership</th>\n",
       "      <th>manufacture</th>\n",
       "      <th>engine_cc</th>\n",
       "      <th>Seats</th>\n",
       "    </tr>\n",
       "  </thead>\n",
       "  <tbody>\n",
       "    <tr>\n",
       "      <th>0</th>\n",
       "      <td>Jeep Compass 2.0 Longitude Option BSIV</td>\n",
       "      <td>10.03 Lakh</td>\n",
       "      <td>86,226 kms</td>\n",
       "      <td>Diesel</td>\n",
       "      <td>Manual</td>\n",
       "      <td>1st Owner</td>\n",
       "      <td>2017</td>\n",
       "      <td>1956 cc</td>\n",
       "      <td>5 Seats</td>\n",
       "    </tr>\n",
       "    <tr>\n",
       "      <th>1</th>\n",
       "      <td>Renault Duster RXZ Turbo CVT</td>\n",
       "      <td>12.83 Lakh</td>\n",
       "      <td>13,248 kms</td>\n",
       "      <td>Petrol</td>\n",
       "      <td>Automatic</td>\n",
       "      <td>1st Owner</td>\n",
       "      <td>2021</td>\n",
       "      <td>1330 cc</td>\n",
       "      <td>5 Seats</td>\n",
       "    </tr>\n",
       "    <tr>\n",
       "      <th>2</th>\n",
       "      <td>Toyota Camry 2.5 G</td>\n",
       "      <td>16.40 Lakh</td>\n",
       "      <td>60,343 kms</td>\n",
       "      <td>Petrol</td>\n",
       "      <td>Automatic</td>\n",
       "      <td>1st Owner</td>\n",
       "      <td>2016</td>\n",
       "      <td>2494 cc</td>\n",
       "      <td>5 Seats</td>\n",
       "    </tr>\n",
       "    <tr>\n",
       "      <th>3</th>\n",
       "      <td>Honda Jazz VX CVT</td>\n",
       "      <td>7.77 Lakh</td>\n",
       "      <td>26,696 kms</td>\n",
       "      <td>Petrol</td>\n",
       "      <td>Automatic</td>\n",
       "      <td>1st Owner</td>\n",
       "      <td>2018</td>\n",
       "      <td>1199 cc</td>\n",
       "      <td>5 Seats</td>\n",
       "    </tr>\n",
       "    <tr>\n",
       "      <th>4</th>\n",
       "      <td>Volkswagen Polo 1.2 MPI Highline</td>\n",
       "      <td>5.15 Lakh</td>\n",
       "      <td>69,414 kms</td>\n",
       "      <td>Petrol</td>\n",
       "      <td>Manual</td>\n",
       "      <td>1st Owner</td>\n",
       "      <td>2016</td>\n",
       "      <td>1199 cc</td>\n",
       "      <td>5 Seats</td>\n",
       "    </tr>\n",
       "    <tr>\n",
       "      <th>...</th>\n",
       "      <td>...</td>\n",
       "      <td>...</td>\n",
       "      <td>...</td>\n",
       "      <td>...</td>\n",
       "      <td>...</td>\n",
       "      <td>...</td>\n",
       "      <td>...</td>\n",
       "      <td>...</td>\n",
       "      <td>...</td>\n",
       "    </tr>\n",
       "    <tr>\n",
       "      <th>5507</th>\n",
       "      <td>BMW X1 sDrive 20d xLine</td>\n",
       "      <td>28.90 Lakh</td>\n",
       "      <td>45,000 kms</td>\n",
       "      <td>Diesel</td>\n",
       "      <td>Automatic</td>\n",
       "      <td>1st Owner</td>\n",
       "      <td>2018</td>\n",
       "      <td>2995 cc</td>\n",
       "      <td>7 Seats</td>\n",
       "    </tr>\n",
       "    <tr>\n",
       "      <th>5508</th>\n",
       "      <td>BMW M Series M4 Coupe</td>\n",
       "      <td>64.90 Lakh</td>\n",
       "      <td>29,000 kms</td>\n",
       "      <td>Petrol</td>\n",
       "      <td>Automatic</td>\n",
       "      <td>2nd Owner</td>\n",
       "      <td>2015</td>\n",
       "      <td>1968 cc</td>\n",
       "      <td>5 Seats</td>\n",
       "    </tr>\n",
       "    <tr>\n",
       "      <th>5509</th>\n",
       "      <td>Jaguar XF 2.2 Litre Luxury</td>\n",
       "      <td>13.75 Lakh</td>\n",
       "      <td>90,000 kms</td>\n",
       "      <td>Diesel</td>\n",
       "      <td>Automatic</td>\n",
       "      <td>2nd Owner</td>\n",
       "      <td>2013</td>\n",
       "      <td>2755 cc</td>\n",
       "      <td>5 Seats</td>\n",
       "    </tr>\n",
       "    <tr>\n",
       "      <th>5510</th>\n",
       "      <td>BMW 7 Series 730Ld</td>\n",
       "      <td>29.90 Lakh</td>\n",
       "      <td>79,000 kms</td>\n",
       "      <td>Diesel</td>\n",
       "      <td>Automatic</td>\n",
       "      <td>3rd Owner</td>\n",
       "      <td>2015</td>\n",
       "      <td>2967 cc</td>\n",
       "      <td>6 Seats</td>\n",
       "    </tr>\n",
       "    <tr>\n",
       "      <th>5511</th>\n",
       "      <td>BMW 5 Series 520d M Sport</td>\n",
       "      <td>31.90 Lakh</td>\n",
       "      <td>42,000 kms</td>\n",
       "      <td>Diesel</td>\n",
       "      <td>Automatic</td>\n",
       "      <td>2nd Owner</td>\n",
       "      <td>2017</td>\n",
       "      <td>1991 cc</td>\n",
       "      <td>5 Seats</td>\n",
       "    </tr>\n",
       "  </tbody>\n",
       "</table>\n",
       "<p>5436 rows × 9 columns</p>\n",
       "</div>"
      ],
      "text/plain": [
       "                                    car_name       price  kms_driven  \\\n",
       "0     Jeep Compass 2.0 Longitude Option BSIV  10.03 Lakh  86,226 kms   \n",
       "1               Renault Duster RXZ Turbo CVT  12.83 Lakh  13,248 kms   \n",
       "2                         Toyota Camry 2.5 G  16.40 Lakh  60,343 kms   \n",
       "3                          Honda Jazz VX CVT   7.77 Lakh  26,696 kms   \n",
       "4           Volkswagen Polo 1.2 MPI Highline   5.15 Lakh  69,414 kms   \n",
       "...                                      ...         ...         ...   \n",
       "5507                 BMW X1 sDrive 20d xLine  28.90 Lakh  45,000 kms   \n",
       "5508                   BMW M Series M4 Coupe  64.90 Lakh  29,000 kms   \n",
       "5509              Jaguar XF 2.2 Litre Luxury  13.75 Lakh  90,000 kms   \n",
       "5510                      BMW 7 Series 730Ld  29.90 Lakh  79,000 kms   \n",
       "5511               BMW 5 Series 520d M Sport  31.90 Lakh  42,000 kms   \n",
       "\n",
       "     fuel_type transmission  ownership  manufacture engine_cc    Seats  \n",
       "0       Diesel       Manual  1st Owner         2017   1956 cc  5 Seats  \n",
       "1       Petrol    Automatic  1st Owner         2021   1330 cc  5 Seats  \n",
       "2       Petrol    Automatic  1st Owner         2016   2494 cc  5 Seats  \n",
       "3       Petrol    Automatic  1st Owner         2018   1199 cc  5 Seats  \n",
       "4       Petrol       Manual  1st Owner         2016   1199 cc  5 Seats  \n",
       "...        ...          ...        ...          ...       ...      ...  \n",
       "5507    Diesel    Automatic  1st Owner         2018   2995 cc  7 Seats  \n",
       "5508    Petrol    Automatic  2nd Owner         2015   1968 cc  5 Seats  \n",
       "5509    Diesel    Automatic  2nd Owner         2013   2755 cc  5 Seats  \n",
       "5510    Diesel    Automatic  3rd Owner         2015   2967 cc  6 Seats  \n",
       "5511    Diesel    Automatic  2nd Owner         2017   1991 cc  5 Seats  \n",
       "\n",
       "[5436 rows x 9 columns]"
      ]
     },
     "execution_count": 16,
     "metadata": {},
     "output_type": "execute_result"
    }
   ],
   "source": [
    "df"
   ]
  },
  {
   "cell_type": "code",
   "execution_count": 18,
   "id": "1b226818",
   "metadata": {},
   "outputs": [
    {
     "data": {
      "text/html": [
       "<div>\n",
       "<style scoped>\n",
       "    .dataframe tbody tr th:only-of-type {\n",
       "        vertical-align: middle;\n",
       "    }\n",
       "\n",
       "    .dataframe tbody tr th {\n",
       "        vertical-align: top;\n",
       "    }\n",
       "\n",
       "    .dataframe thead th {\n",
       "        text-align: right;\n",
       "    }\n",
       "</style>\n",
       "<table border=\"1\" class=\"dataframe\">\n",
       "  <thead>\n",
       "    <tr style=\"text-align: right;\">\n",
       "      <th></th>\n",
       "      <th>car_name</th>\n",
       "      <th>price</th>\n",
       "      <th>kms_driven</th>\n",
       "      <th>fuel_type</th>\n",
       "      <th>transmission</th>\n",
       "      <th>ownership</th>\n",
       "      <th>manufacture</th>\n",
       "      <th>engine_cc</th>\n",
       "      <th>Seats</th>\n",
       "    </tr>\n",
       "  </thead>\n",
       "  <tbody>\n",
       "  </tbody>\n",
       "</table>\n",
       "</div>"
      ],
      "text/plain": [
       "Empty DataFrame\n",
       "Columns: [car_name, price, kms_driven, fuel_type, transmission, ownership, manufacture, engine_cc, Seats]\n",
       "Index: []"
      ]
     },
     "execution_count": 18,
     "metadata": {},
     "output_type": "execute_result"
    }
   ],
   "source": [
    "df[df.duplicated()==True]"
   ]
  },
  {
   "cell_type": "markdown",
   "id": "c487608c",
   "metadata": {},
   "source": [
    "# 6. Data cleaning"
   ]
  },
  {
   "cell_type": "code",
   "execution_count": 19,
   "id": "e5f33980",
   "metadata": {},
   "outputs": [],
   "source": [
    "#using dc for data cleaning\n",
    "dc_price=df.copy()"
   ]
  },
  {
   "cell_type": "markdown",
   "id": "ffaf855e",
   "metadata": {},
   "source": [
    "### 6.1 price"
   ]
  },
  {
   "cell_type": "markdown",
   "id": "728b60d5",
   "metadata": {},
   "source": [
    "price has: \n",
    "\n",
    "\",\" (for those which are not in lakhs)\n",
    "\n",
    "\".\", \"Lakh\" (for those which are in lakhs)\n",
    "\n",
    "\".\", \"Crore\" (for those which are in lakhs)\n",
    "\n",
    "Agenda: make everything into digits in rupees"
   ]
  },
  {
   "cell_type": "code",
   "execution_count": 20,
   "id": "fef897e8",
   "metadata": {},
   "outputs": [
    {
     "data": {
      "text/html": [
       "<div>\n",
       "<style scoped>\n",
       "    .dataframe tbody tr th:only-of-type {\n",
       "        vertical-align: middle;\n",
       "    }\n",
       "\n",
       "    .dataframe tbody tr th {\n",
       "        vertical-align: top;\n",
       "    }\n",
       "\n",
       "    .dataframe thead th {\n",
       "        text-align: right;\n",
       "    }\n",
       "</style>\n",
       "<table border=\"1\" class=\"dataframe\">\n",
       "  <thead>\n",
       "    <tr style=\"text-align: right;\">\n",
       "      <th></th>\n",
       "      <th>car_name</th>\n",
       "      <th>price</th>\n",
       "      <th>kms_driven</th>\n",
       "      <th>fuel_type</th>\n",
       "      <th>transmission</th>\n",
       "      <th>ownership</th>\n",
       "      <th>manufacture</th>\n",
       "      <th>engine_cc</th>\n",
       "      <th>Seats</th>\n",
       "    </tr>\n",
       "  </thead>\n",
       "  <tbody>\n",
       "    <tr>\n",
       "      <th>0</th>\n",
       "      <td>Jeep Compass 2.0 Longitude Option BSIV</td>\n",
       "      <td>10.03 Lakh</td>\n",
       "      <td>86,226 kms</td>\n",
       "      <td>Diesel</td>\n",
       "      <td>Manual</td>\n",
       "      <td>1st Owner</td>\n",
       "      <td>2017</td>\n",
       "      <td>1956 cc</td>\n",
       "      <td>5 Seats</td>\n",
       "    </tr>\n",
       "    <tr>\n",
       "      <th>1</th>\n",
       "      <td>Renault Duster RXZ Turbo CVT</td>\n",
       "      <td>12.83 Lakh</td>\n",
       "      <td>13,248 kms</td>\n",
       "      <td>Petrol</td>\n",
       "      <td>Automatic</td>\n",
       "      <td>1st Owner</td>\n",
       "      <td>2021</td>\n",
       "      <td>1330 cc</td>\n",
       "      <td>5 Seats</td>\n",
       "    </tr>\n",
       "  </tbody>\n",
       "</table>\n",
       "</div>"
      ],
      "text/plain": [
       "                                 car_name       price  kms_driven fuel_type  \\\n",
       "0  Jeep Compass 2.0 Longitude Option BSIV  10.03 Lakh  86,226 kms    Diesel   \n",
       "1            Renault Duster RXZ Turbo CVT  12.83 Lakh  13,248 kms    Petrol   \n",
       "\n",
       "  transmission  ownership  manufacture engine_cc    Seats  \n",
       "0       Manual  1st Owner         2017   1956 cc  5 Seats  \n",
       "1    Automatic  1st Owner         2021   1330 cc  5 Seats  "
      ]
     },
     "execution_count": 20,
     "metadata": {},
     "output_type": "execute_result"
    }
   ],
   "source": [
    "dc_price.head(2)"
   ]
  },
  {
   "cell_type": "code",
   "execution_count": 21,
   "id": "dfdc9ae4",
   "metadata": {},
   "outputs": [
    {
     "data": {
      "text/plain": [
       "4.50 Lakh     62\n",
       "3.50 Lakh     61\n",
       "3 Lakh        58\n",
       "6.50 Lakh     57\n",
       "5.50 Lakh     51\n",
       "              ..\n",
       "49 Lakh        1\n",
       "61,000         1\n",
       "19 Lakh        1\n",
       "16.25 Lakh     1\n",
       "31.90 Lakh     1\n",
       "Name: price, Length: 1300, dtype: int64"
      ]
     },
     "execution_count": 21,
     "metadata": {},
     "output_type": "execute_result"
    }
   ],
   "source": [
    "dc_price['price'].value_counts()"
   ]
  },
  {
   "cell_type": "code",
   "execution_count": 22,
   "id": "b0c01938",
   "metadata": {},
   "outputs": [],
   "source": [
    "def price_cleaning(x):\n",
    "    if \"Lakh\" in x:\n",
    "        l=x.split()\n",
    "        res=float(l[0])\n",
    "        return res*100000\n",
    "    if \"Crore\" in x:\n",
    "        l=x.split()\n",
    "        res=float(l[0])\n",
    "        return res*10000000\n",
    "    m=[]\n",
    "    if \",\" in x:\n",
    "        m=x.split(',')[0]\n",
    "        res=\"\".join(m)\n",
    "        return float(res)\n",
    "\n",
    "dc_price['price']=dc_price['price'].apply(price_cleaning)"
   ]
  },
  {
   "cell_type": "code",
   "execution_count": 23,
   "id": "f88a1950",
   "metadata": {
    "scrolled": false
   },
   "outputs": [],
   "source": [
    "c=dc_price['price']/100000"
   ]
  },
  {
   "cell_type": "code",
   "execution_count": 24,
   "id": "433823e8",
   "metadata": {},
   "outputs": [
    {
     "data": {
      "text/plain": [
       "0"
      ]
     },
     "execution_count": 24,
     "metadata": {},
     "output_type": "execute_result"
    }
   ],
   "source": [
    "dc_price['price'].isnull().sum()"
   ]
  },
  {
   "cell_type": "code",
   "execution_count": 25,
   "id": "e138069c",
   "metadata": {},
   "outputs": [],
   "source": [
    "dc_price['price_in_lakhs']=c"
   ]
  },
  {
   "cell_type": "code",
   "execution_count": 26,
   "id": "723464ea",
   "metadata": {
    "scrolled": true
   },
   "outputs": [
    {
     "data": {
      "text/html": [
       "<div>\n",
       "<style scoped>\n",
       "    .dataframe tbody tr th:only-of-type {\n",
       "        vertical-align: middle;\n",
       "    }\n",
       "\n",
       "    .dataframe tbody tr th {\n",
       "        vertical-align: top;\n",
       "    }\n",
       "\n",
       "    .dataframe thead th {\n",
       "        text-align: right;\n",
       "    }\n",
       "</style>\n",
       "<table border=\"1\" class=\"dataframe\">\n",
       "  <thead>\n",
       "    <tr style=\"text-align: right;\">\n",
       "      <th></th>\n",
       "      <th>car_name</th>\n",
       "      <th>price</th>\n",
       "      <th>kms_driven</th>\n",
       "      <th>fuel_type</th>\n",
       "      <th>transmission</th>\n",
       "      <th>ownership</th>\n",
       "      <th>manufacture</th>\n",
       "      <th>engine_cc</th>\n",
       "      <th>Seats</th>\n",
       "      <th>price_in_lakhs</th>\n",
       "    </tr>\n",
       "  </thead>\n",
       "  <tbody>\n",
       "    <tr>\n",
       "      <th>0</th>\n",
       "      <td>Jeep Compass 2.0 Longitude Option BSIV</td>\n",
       "      <td>1003000.0</td>\n",
       "      <td>86,226 kms</td>\n",
       "      <td>Diesel</td>\n",
       "      <td>Manual</td>\n",
       "      <td>1st Owner</td>\n",
       "      <td>2017</td>\n",
       "      <td>1956 cc</td>\n",
       "      <td>5 Seats</td>\n",
       "      <td>10.03</td>\n",
       "    </tr>\n",
       "    <tr>\n",
       "      <th>1</th>\n",
       "      <td>Renault Duster RXZ Turbo CVT</td>\n",
       "      <td>1283000.0</td>\n",
       "      <td>13,248 kms</td>\n",
       "      <td>Petrol</td>\n",
       "      <td>Automatic</td>\n",
       "      <td>1st Owner</td>\n",
       "      <td>2021</td>\n",
       "      <td>1330 cc</td>\n",
       "      <td>5 Seats</td>\n",
       "      <td>12.83</td>\n",
       "    </tr>\n",
       "  </tbody>\n",
       "</table>\n",
       "</div>"
      ],
      "text/plain": [
       "                                 car_name      price  kms_driven fuel_type  \\\n",
       "0  Jeep Compass 2.0 Longitude Option BSIV  1003000.0  86,226 kms    Diesel   \n",
       "1            Renault Duster RXZ Turbo CVT  1283000.0  13,248 kms    Petrol   \n",
       "\n",
       "  transmission  ownership  manufacture engine_cc    Seats  price_in_lakhs  \n",
       "0       Manual  1st Owner         2017   1956 cc  5 Seats           10.03  \n",
       "1    Automatic  1st Owner         2021   1330 cc  5 Seats           12.83  "
      ]
     },
     "execution_count": 26,
     "metadata": {},
     "output_type": "execute_result"
    }
   ],
   "source": [
    "dc_price.head(2)"
   ]
  },
  {
   "cell_type": "markdown",
   "id": "e71a7b6c",
   "metadata": {},
   "source": [
    "### 6.2 kms_driven"
   ]
  },
  {
   "cell_type": "markdown",
   "id": "c8fa7b3d",
   "metadata": {},
   "source": [
    "kms_driven has:\n",
    "\n",
    "\"kms\" for all observations\n",
    "\n",
    "single \",\" in some observations\n",
    "\n",
    "double \",\" in some observations\n",
    "\n",
    "some does not have \",\" at all\n",
    "\n",
    "Agenda: make it into digits"
   ]
  },
  {
   "cell_type": "code",
   "execution_count": 27,
   "id": "0b64f132",
   "metadata": {},
   "outputs": [],
   "source": [
    "#using dc for data cleaning\n",
    "dc_kms=dc_price.copy()"
   ]
  },
  {
   "cell_type": "code",
   "execution_count": 28,
   "id": "601518e6",
   "metadata": {},
   "outputs": [
    {
     "data": {
      "text/html": [
       "<div>\n",
       "<style scoped>\n",
       "    .dataframe tbody tr th:only-of-type {\n",
       "        vertical-align: middle;\n",
       "    }\n",
       "\n",
       "    .dataframe tbody tr th {\n",
       "        vertical-align: top;\n",
       "    }\n",
       "\n",
       "    .dataframe thead th {\n",
       "        text-align: right;\n",
       "    }\n",
       "</style>\n",
       "<table border=\"1\" class=\"dataframe\">\n",
       "  <thead>\n",
       "    <tr style=\"text-align: right;\">\n",
       "      <th></th>\n",
       "      <th>car_name</th>\n",
       "      <th>price</th>\n",
       "      <th>kms_driven</th>\n",
       "      <th>fuel_type</th>\n",
       "      <th>transmission</th>\n",
       "      <th>ownership</th>\n",
       "      <th>manufacture</th>\n",
       "      <th>engine_cc</th>\n",
       "      <th>Seats</th>\n",
       "      <th>price_in_lakhs</th>\n",
       "    </tr>\n",
       "  </thead>\n",
       "  <tbody>\n",
       "    <tr>\n",
       "      <th>0</th>\n",
       "      <td>Jeep Compass 2.0 Longitude Option BSIV</td>\n",
       "      <td>1003000.0</td>\n",
       "      <td>86,226 kms</td>\n",
       "      <td>Diesel</td>\n",
       "      <td>Manual</td>\n",
       "      <td>1st Owner</td>\n",
       "      <td>2017</td>\n",
       "      <td>1956 cc</td>\n",
       "      <td>5 Seats</td>\n",
       "      <td>10.03</td>\n",
       "    </tr>\n",
       "    <tr>\n",
       "      <th>1</th>\n",
       "      <td>Renault Duster RXZ Turbo CVT</td>\n",
       "      <td>1283000.0</td>\n",
       "      <td>13,248 kms</td>\n",
       "      <td>Petrol</td>\n",
       "      <td>Automatic</td>\n",
       "      <td>1st Owner</td>\n",
       "      <td>2021</td>\n",
       "      <td>1330 cc</td>\n",
       "      <td>5 Seats</td>\n",
       "      <td>12.83</td>\n",
       "    </tr>\n",
       "  </tbody>\n",
       "</table>\n",
       "</div>"
      ],
      "text/plain": [
       "                                 car_name      price  kms_driven fuel_type  \\\n",
       "0  Jeep Compass 2.0 Longitude Option BSIV  1003000.0  86,226 kms    Diesel   \n",
       "1            Renault Duster RXZ Turbo CVT  1283000.0  13,248 kms    Petrol   \n",
       "\n",
       "  transmission  ownership  manufacture engine_cc    Seats  price_in_lakhs  \n",
       "0       Manual  1st Owner         2017   1956 cc  5 Seats           10.03  \n",
       "1    Automatic  1st Owner         2021   1330 cc  5 Seats           12.83  "
      ]
     },
     "execution_count": 28,
     "metadata": {},
     "output_type": "execute_result"
    }
   ],
   "source": [
    "dc_kms.head(2)"
   ]
  },
  {
   "cell_type": "code",
   "execution_count": 29,
   "id": "f20097e6",
   "metadata": {},
   "outputs": [
    {
     "data": {
      "text/plain": [
       "80,000 kms      163\n",
       "1,20,000 kms    146\n",
       "60,000 kms      141\n",
       "50,000 kms      136\n",
       "70,000 kms      132\n",
       "               ... \n",
       "1,18,587 kms      1\n",
       "72,318 kms        1\n",
       "88,579 kms        1\n",
       "69,509 kms        1\n",
       "85,002 kms        1\n",
       "Name: kms_driven, Length: 2610, dtype: int64"
      ]
     },
     "execution_count": 29,
     "metadata": {},
     "output_type": "execute_result"
    }
   ],
   "source": [
    "dc_kms['kms_driven'].value_counts()"
   ]
  },
  {
   "cell_type": "code",
   "execution_count": 30,
   "id": "2cf84901",
   "metadata": {
    "scrolled": true
   },
   "outputs": [],
   "source": [
    "def kms_cleaning(x):\n",
    "    m=[]\n",
    "    res=''\n",
    "    without_kms=x.split()[:-1]\n",
    "    x=\"\".join(without_kms)\n",
    "    \n",
    "    if \",\" in x:\n",
    "        m=x.split(',')\n",
    "        res=\"\".join(m)\n",
    "        return float(res)\n",
    "    else:\n",
    "        return float(x)\n",
    "\n",
    "\n",
    "dc_kms['kms_driven']=dc_kms['kms_driven'].apply(kms_cleaning)"
   ]
  },
  {
   "cell_type": "code",
   "execution_count": 31,
   "id": "287ecda4",
   "metadata": {},
   "outputs": [
    {
     "data": {
      "text/plain": [
       "0    86226.0\n",
       "1    13248.0\n",
       "2    60343.0\n",
       "3    26696.0\n",
       "4    69414.0\n",
       "Name: kms_driven, dtype: float64"
      ]
     },
     "execution_count": 31,
     "metadata": {},
     "output_type": "execute_result"
    }
   ],
   "source": [
    "dc_kms['kms_driven'].head()"
   ]
  },
  {
   "cell_type": "code",
   "execution_count": 32,
   "id": "d60a1121",
   "metadata": {
    "scrolled": true
   },
   "outputs": [
    {
     "data": {
      "text/plain": [
       "0"
      ]
     },
     "execution_count": 32,
     "metadata": {},
     "output_type": "execute_result"
    }
   ],
   "source": [
    "dc_kms['kms_driven'].isnull().sum()"
   ]
  },
  {
   "cell_type": "code",
   "execution_count": 33,
   "id": "3ce5c39e",
   "metadata": {},
   "outputs": [
    {
     "data": {
      "text/html": [
       "<div>\n",
       "<style scoped>\n",
       "    .dataframe tbody tr th:only-of-type {\n",
       "        vertical-align: middle;\n",
       "    }\n",
       "\n",
       "    .dataframe tbody tr th {\n",
       "        vertical-align: top;\n",
       "    }\n",
       "\n",
       "    .dataframe thead th {\n",
       "        text-align: right;\n",
       "    }\n",
       "</style>\n",
       "<table border=\"1\" class=\"dataframe\">\n",
       "  <thead>\n",
       "    <tr style=\"text-align: right;\">\n",
       "      <th></th>\n",
       "      <th>car_name</th>\n",
       "      <th>price</th>\n",
       "      <th>kms_driven</th>\n",
       "      <th>fuel_type</th>\n",
       "      <th>transmission</th>\n",
       "      <th>ownership</th>\n",
       "      <th>manufacture</th>\n",
       "      <th>engine_cc</th>\n",
       "      <th>Seats</th>\n",
       "      <th>price_in_lakhs</th>\n",
       "    </tr>\n",
       "  </thead>\n",
       "  <tbody>\n",
       "    <tr>\n",
       "      <th>0</th>\n",
       "      <td>Jeep Compass 2.0 Longitude Option BSIV</td>\n",
       "      <td>1003000.0</td>\n",
       "      <td>86226.0</td>\n",
       "      <td>Diesel</td>\n",
       "      <td>Manual</td>\n",
       "      <td>1st Owner</td>\n",
       "      <td>2017</td>\n",
       "      <td>1956 cc</td>\n",
       "      <td>5 Seats</td>\n",
       "      <td>10.03</td>\n",
       "    </tr>\n",
       "    <tr>\n",
       "      <th>1</th>\n",
       "      <td>Renault Duster RXZ Turbo CVT</td>\n",
       "      <td>1283000.0</td>\n",
       "      <td>13248.0</td>\n",
       "      <td>Petrol</td>\n",
       "      <td>Automatic</td>\n",
       "      <td>1st Owner</td>\n",
       "      <td>2021</td>\n",
       "      <td>1330 cc</td>\n",
       "      <td>5 Seats</td>\n",
       "      <td>12.83</td>\n",
       "    </tr>\n",
       "    <tr>\n",
       "      <th>2</th>\n",
       "      <td>Toyota Camry 2.5 G</td>\n",
       "      <td>1640000.0</td>\n",
       "      <td>60343.0</td>\n",
       "      <td>Petrol</td>\n",
       "      <td>Automatic</td>\n",
       "      <td>1st Owner</td>\n",
       "      <td>2016</td>\n",
       "      <td>2494 cc</td>\n",
       "      <td>5 Seats</td>\n",
       "      <td>16.40</td>\n",
       "    </tr>\n",
       "    <tr>\n",
       "      <th>3</th>\n",
       "      <td>Honda Jazz VX CVT</td>\n",
       "      <td>777000.0</td>\n",
       "      <td>26696.0</td>\n",
       "      <td>Petrol</td>\n",
       "      <td>Automatic</td>\n",
       "      <td>1st Owner</td>\n",
       "      <td>2018</td>\n",
       "      <td>1199 cc</td>\n",
       "      <td>5 Seats</td>\n",
       "      <td>7.77</td>\n",
       "    </tr>\n",
       "    <tr>\n",
       "      <th>4</th>\n",
       "      <td>Volkswagen Polo 1.2 MPI Highline</td>\n",
       "      <td>515000.0</td>\n",
       "      <td>69414.0</td>\n",
       "      <td>Petrol</td>\n",
       "      <td>Manual</td>\n",
       "      <td>1st Owner</td>\n",
       "      <td>2016</td>\n",
       "      <td>1199 cc</td>\n",
       "      <td>5 Seats</td>\n",
       "      <td>5.15</td>\n",
       "    </tr>\n",
       "  </tbody>\n",
       "</table>\n",
       "</div>"
      ],
      "text/plain": [
       "                                 car_name      price  kms_driven fuel_type  \\\n",
       "0  Jeep Compass 2.0 Longitude Option BSIV  1003000.0     86226.0    Diesel   \n",
       "1            Renault Duster RXZ Turbo CVT  1283000.0     13248.0    Petrol   \n",
       "2                      Toyota Camry 2.5 G  1640000.0     60343.0    Petrol   \n",
       "3                       Honda Jazz VX CVT   777000.0     26696.0    Petrol   \n",
       "4        Volkswagen Polo 1.2 MPI Highline   515000.0     69414.0    Petrol   \n",
       "\n",
       "  transmission  ownership  manufacture engine_cc    Seats  price_in_lakhs  \n",
       "0       Manual  1st Owner         2017   1956 cc  5 Seats           10.03  \n",
       "1    Automatic  1st Owner         2021   1330 cc  5 Seats           12.83  \n",
       "2    Automatic  1st Owner         2016   2494 cc  5 Seats           16.40  \n",
       "3    Automatic  1st Owner         2018   1199 cc  5 Seats            7.77  \n",
       "4       Manual  1st Owner         2016   1199 cc  5 Seats            5.15  "
      ]
     },
     "execution_count": 33,
     "metadata": {},
     "output_type": "execute_result"
    }
   ],
   "source": [
    "dc_kms.head()"
   ]
  },
  {
   "cell_type": "markdown",
   "id": "f645edb1",
   "metadata": {},
   "source": [
    "### 6.3 ownership"
   ]
  },
  {
   "cell_type": "markdown",
   "id": "3a89de64",
   "metadata": {},
   "source": [
    "ownership has:\n",
    "\n",
    "st, nd, rd, th...... and Owner in all the observations\n",
    "\n",
    "what is 0th onwer? Considering that they are brand new since same car name was repeated else where."
   ]
  },
  {
   "cell_type": "code",
   "execution_count": 34,
   "id": "8c5c3fc4",
   "metadata": {},
   "outputs": [],
   "source": [
    "dc_own=dc_kms.copy()"
   ]
  },
  {
   "cell_type": "code",
   "execution_count": 35,
   "id": "73648e6e",
   "metadata": {},
   "outputs": [
    {
     "data": {
      "text/plain": [
       "1st Owner    3678\n",
       "2nd Owner    1298\n",
       "3rd Owner     358\n",
       "4th Owner      84\n",
       "5th Owner      12\n",
       "0th Owner       6\n",
       "Name: ownership, dtype: int64"
      ]
     },
     "execution_count": 35,
     "metadata": {},
     "output_type": "execute_result"
    }
   ],
   "source": [
    "dc_own['ownership'].value_counts()"
   ]
  },
  {
   "cell_type": "code",
   "execution_count": 36,
   "id": "ab8f723e",
   "metadata": {},
   "outputs": [],
   "source": [
    "dc_own['ownership']=dc_own['ownership'].apply(lambda x: int(x[0]))"
   ]
  },
  {
   "cell_type": "code",
   "execution_count": 37,
   "id": "d14a64a2",
   "metadata": {},
   "outputs": [
    {
     "data": {
      "text/plain": [
       "1    3678\n",
       "2    1298\n",
       "3     358\n",
       "4      84\n",
       "5      12\n",
       "0       6\n",
       "Name: ownership, dtype: int64"
      ]
     },
     "execution_count": 37,
     "metadata": {},
     "output_type": "execute_result"
    }
   ],
   "source": [
    "dc_own['ownership'].value_counts()"
   ]
  },
  {
   "cell_type": "code",
   "execution_count": 38,
   "id": "b1c9f5cf",
   "metadata": {},
   "outputs": [
    {
     "data": {
      "text/html": [
       "<div>\n",
       "<style scoped>\n",
       "    .dataframe tbody tr th:only-of-type {\n",
       "        vertical-align: middle;\n",
       "    }\n",
       "\n",
       "    .dataframe tbody tr th {\n",
       "        vertical-align: top;\n",
       "    }\n",
       "\n",
       "    .dataframe thead th {\n",
       "        text-align: right;\n",
       "    }\n",
       "</style>\n",
       "<table border=\"1\" class=\"dataframe\">\n",
       "  <thead>\n",
       "    <tr style=\"text-align: right;\">\n",
       "      <th></th>\n",
       "      <th>car_name</th>\n",
       "      <th>price</th>\n",
       "      <th>kms_driven</th>\n",
       "      <th>fuel_type</th>\n",
       "      <th>transmission</th>\n",
       "      <th>ownership</th>\n",
       "      <th>manufacture</th>\n",
       "      <th>engine_cc</th>\n",
       "      <th>Seats</th>\n",
       "      <th>price_in_lakhs</th>\n",
       "    </tr>\n",
       "  </thead>\n",
       "  <tbody>\n",
       "    <tr>\n",
       "      <th>0</th>\n",
       "      <td>Jeep Compass 2.0 Longitude Option BSIV</td>\n",
       "      <td>1003000.0</td>\n",
       "      <td>86226.0</td>\n",
       "      <td>Diesel</td>\n",
       "      <td>Manual</td>\n",
       "      <td>1</td>\n",
       "      <td>2017</td>\n",
       "      <td>1956 cc</td>\n",
       "      <td>5 Seats</td>\n",
       "      <td>10.03</td>\n",
       "    </tr>\n",
       "    <tr>\n",
       "      <th>1</th>\n",
       "      <td>Renault Duster RXZ Turbo CVT</td>\n",
       "      <td>1283000.0</td>\n",
       "      <td>13248.0</td>\n",
       "      <td>Petrol</td>\n",
       "      <td>Automatic</td>\n",
       "      <td>1</td>\n",
       "      <td>2021</td>\n",
       "      <td>1330 cc</td>\n",
       "      <td>5 Seats</td>\n",
       "      <td>12.83</td>\n",
       "    </tr>\n",
       "    <tr>\n",
       "      <th>2</th>\n",
       "      <td>Toyota Camry 2.5 G</td>\n",
       "      <td>1640000.0</td>\n",
       "      <td>60343.0</td>\n",
       "      <td>Petrol</td>\n",
       "      <td>Automatic</td>\n",
       "      <td>1</td>\n",
       "      <td>2016</td>\n",
       "      <td>2494 cc</td>\n",
       "      <td>5 Seats</td>\n",
       "      <td>16.40</td>\n",
       "    </tr>\n",
       "    <tr>\n",
       "      <th>3</th>\n",
       "      <td>Honda Jazz VX CVT</td>\n",
       "      <td>777000.0</td>\n",
       "      <td>26696.0</td>\n",
       "      <td>Petrol</td>\n",
       "      <td>Automatic</td>\n",
       "      <td>1</td>\n",
       "      <td>2018</td>\n",
       "      <td>1199 cc</td>\n",
       "      <td>5 Seats</td>\n",
       "      <td>7.77</td>\n",
       "    </tr>\n",
       "    <tr>\n",
       "      <th>4</th>\n",
       "      <td>Volkswagen Polo 1.2 MPI Highline</td>\n",
       "      <td>515000.0</td>\n",
       "      <td>69414.0</td>\n",
       "      <td>Petrol</td>\n",
       "      <td>Manual</td>\n",
       "      <td>1</td>\n",
       "      <td>2016</td>\n",
       "      <td>1199 cc</td>\n",
       "      <td>5 Seats</td>\n",
       "      <td>5.15</td>\n",
       "    </tr>\n",
       "  </tbody>\n",
       "</table>\n",
       "</div>"
      ],
      "text/plain": [
       "                                 car_name      price  kms_driven fuel_type  \\\n",
       "0  Jeep Compass 2.0 Longitude Option BSIV  1003000.0     86226.0    Diesel   \n",
       "1            Renault Duster RXZ Turbo CVT  1283000.0     13248.0    Petrol   \n",
       "2                      Toyota Camry 2.5 G  1640000.0     60343.0    Petrol   \n",
       "3                       Honda Jazz VX CVT   777000.0     26696.0    Petrol   \n",
       "4        Volkswagen Polo 1.2 MPI Highline   515000.0     69414.0    Petrol   \n",
       "\n",
       "  transmission  ownership  manufacture engine_cc    Seats  price_in_lakhs  \n",
       "0       Manual          1         2017   1956 cc  5 Seats           10.03  \n",
       "1    Automatic          1         2021   1330 cc  5 Seats           12.83  \n",
       "2    Automatic          1         2016   2494 cc  5 Seats           16.40  \n",
       "3    Automatic          1         2018   1199 cc  5 Seats            7.77  \n",
       "4       Manual          1         2016   1199 cc  5 Seats            5.15  "
      ]
     },
     "execution_count": 38,
     "metadata": {},
     "output_type": "execute_result"
    }
   ],
   "source": [
    "dc_own.head()"
   ]
  },
  {
   "cell_type": "markdown",
   "id": "98ad0ddf",
   "metadata": {},
   "source": [
    "### 6.4 engine_cc"
   ]
  },
  {
   "cell_type": "markdown",
   "id": "cf3ce52d",
   "metadata": {},
   "source": [
    "remove cc and make it float"
   ]
  },
  {
   "cell_type": "code",
   "execution_count": 39,
   "id": "db77c7bf",
   "metadata": {},
   "outputs": [],
   "source": [
    "dc_eng=dc_own.copy()"
   ]
  },
  {
   "cell_type": "code",
   "execution_count": 40,
   "id": "84470a2d",
   "metadata": {},
   "outputs": [
    {
     "data": {
      "text/plain": [
       "1197 cc    699\n",
       "1248 cc    387\n",
       "998 cc     340\n",
       "1498 cc    249\n",
       "1497 cc    243\n",
       "          ... \n",
       "1173 cc      1\n",
       "2359 cc      1\n",
       "5950 cc      1\n",
       "3956 cc      1\n",
       "2979 cc      1\n",
       "Name: engine_cc, Length: 139, dtype: int64"
      ]
     },
     "execution_count": 40,
     "metadata": {},
     "output_type": "execute_result"
    }
   ],
   "source": [
    "dc_eng['engine_cc'].value_counts()"
   ]
  },
  {
   "cell_type": "code",
   "execution_count": 41,
   "id": "78d0f666",
   "metadata": {},
   "outputs": [],
   "source": [
    "def cc(x):\n",
    "    if \"cc\" in x:\n",
    "        l=x.split()\n",
    "        res=float(l[0])\n",
    "        return res\n",
    "\n",
    "dc_eng['engine_cc']=dc_eng['engine_cc'].apply(cc)"
   ]
  },
  {
   "cell_type": "code",
   "execution_count": 42,
   "id": "7a9c0ad7",
   "metadata": {},
   "outputs": [
    {
     "data": {
      "text/plain": [
       "0"
      ]
     },
     "execution_count": 42,
     "metadata": {},
     "output_type": "execute_result"
    }
   ],
   "source": [
    "dc_eng['engine_cc'].isnull().sum()"
   ]
  },
  {
   "cell_type": "code",
   "execution_count": 43,
   "id": "05098f62",
   "metadata": {
    "scrolled": true
   },
   "outputs": [
    {
     "data": {
      "text/html": [
       "<div>\n",
       "<style scoped>\n",
       "    .dataframe tbody tr th:only-of-type {\n",
       "        vertical-align: middle;\n",
       "    }\n",
       "\n",
       "    .dataframe tbody tr th {\n",
       "        vertical-align: top;\n",
       "    }\n",
       "\n",
       "    .dataframe thead th {\n",
       "        text-align: right;\n",
       "    }\n",
       "</style>\n",
       "<table border=\"1\" class=\"dataframe\">\n",
       "  <thead>\n",
       "    <tr style=\"text-align: right;\">\n",
       "      <th></th>\n",
       "      <th>car_name</th>\n",
       "      <th>price</th>\n",
       "      <th>kms_driven</th>\n",
       "      <th>fuel_type</th>\n",
       "      <th>transmission</th>\n",
       "      <th>ownership</th>\n",
       "      <th>manufacture</th>\n",
       "      <th>engine_cc</th>\n",
       "      <th>Seats</th>\n",
       "      <th>price_in_lakhs</th>\n",
       "    </tr>\n",
       "  </thead>\n",
       "  <tbody>\n",
       "    <tr>\n",
       "      <th>0</th>\n",
       "      <td>Jeep Compass 2.0 Longitude Option BSIV</td>\n",
       "      <td>1003000.0</td>\n",
       "      <td>86226.0</td>\n",
       "      <td>Diesel</td>\n",
       "      <td>Manual</td>\n",
       "      <td>1</td>\n",
       "      <td>2017</td>\n",
       "      <td>1956.0</td>\n",
       "      <td>5 Seats</td>\n",
       "      <td>10.03</td>\n",
       "    </tr>\n",
       "    <tr>\n",
       "      <th>1</th>\n",
       "      <td>Renault Duster RXZ Turbo CVT</td>\n",
       "      <td>1283000.0</td>\n",
       "      <td>13248.0</td>\n",
       "      <td>Petrol</td>\n",
       "      <td>Automatic</td>\n",
       "      <td>1</td>\n",
       "      <td>2021</td>\n",
       "      <td>1330.0</td>\n",
       "      <td>5 Seats</td>\n",
       "      <td>12.83</td>\n",
       "    </tr>\n",
       "    <tr>\n",
       "      <th>2</th>\n",
       "      <td>Toyota Camry 2.5 G</td>\n",
       "      <td>1640000.0</td>\n",
       "      <td>60343.0</td>\n",
       "      <td>Petrol</td>\n",
       "      <td>Automatic</td>\n",
       "      <td>1</td>\n",
       "      <td>2016</td>\n",
       "      <td>2494.0</td>\n",
       "      <td>5 Seats</td>\n",
       "      <td>16.40</td>\n",
       "    </tr>\n",
       "    <tr>\n",
       "      <th>3</th>\n",
       "      <td>Honda Jazz VX CVT</td>\n",
       "      <td>777000.0</td>\n",
       "      <td>26696.0</td>\n",
       "      <td>Petrol</td>\n",
       "      <td>Automatic</td>\n",
       "      <td>1</td>\n",
       "      <td>2018</td>\n",
       "      <td>1199.0</td>\n",
       "      <td>5 Seats</td>\n",
       "      <td>7.77</td>\n",
       "    </tr>\n",
       "    <tr>\n",
       "      <th>4</th>\n",
       "      <td>Volkswagen Polo 1.2 MPI Highline</td>\n",
       "      <td>515000.0</td>\n",
       "      <td>69414.0</td>\n",
       "      <td>Petrol</td>\n",
       "      <td>Manual</td>\n",
       "      <td>1</td>\n",
       "      <td>2016</td>\n",
       "      <td>1199.0</td>\n",
       "      <td>5 Seats</td>\n",
       "      <td>5.15</td>\n",
       "    </tr>\n",
       "  </tbody>\n",
       "</table>\n",
       "</div>"
      ],
      "text/plain": [
       "                                 car_name      price  kms_driven fuel_type  \\\n",
       "0  Jeep Compass 2.0 Longitude Option BSIV  1003000.0     86226.0    Diesel   \n",
       "1            Renault Duster RXZ Turbo CVT  1283000.0     13248.0    Petrol   \n",
       "2                      Toyota Camry 2.5 G  1640000.0     60343.0    Petrol   \n",
       "3                       Honda Jazz VX CVT   777000.0     26696.0    Petrol   \n",
       "4        Volkswagen Polo 1.2 MPI Highline   515000.0     69414.0    Petrol   \n",
       "\n",
       "  transmission  ownership  manufacture  engine_cc    Seats  price_in_lakhs  \n",
       "0       Manual          1         2017     1956.0  5 Seats           10.03  \n",
       "1    Automatic          1         2021     1330.0  5 Seats           12.83  \n",
       "2    Automatic          1         2016     2494.0  5 Seats           16.40  \n",
       "3    Automatic          1         2018     1199.0  5 Seats            7.77  \n",
       "4       Manual          1         2016     1199.0  5 Seats            5.15  "
      ]
     },
     "execution_count": 43,
     "metadata": {},
     "output_type": "execute_result"
    }
   ],
   "source": [
    "dc_eng.head()"
   ]
  },
  {
   "cell_type": "markdown",
   "id": "e70e15ea",
   "metadata": {},
   "source": [
    "### 6.5 Seats"
   ]
  },
  {
   "cell_type": "markdown",
   "id": "58430e41",
   "metadata": {},
   "source": [
    "remove seats and make it float"
   ]
  },
  {
   "cell_type": "code",
   "execution_count": 44,
   "id": "7f4f79bd",
   "metadata": {},
   "outputs": [],
   "source": [
    "dc_seats=dc_eng.copy()"
   ]
  },
  {
   "cell_type": "code",
   "execution_count": 45,
   "id": "1e32c9cc",
   "metadata": {},
   "outputs": [
    {
     "data": {
      "text/plain": [
       "5 Seats    4603\n",
       "7 Seats     626\n",
       "4 Seats      88\n",
       "6 Seats      60\n",
       "8 Seats      54\n",
       "2 Seats       5\n",
       "Name: Seats, dtype: int64"
      ]
     },
     "execution_count": 45,
     "metadata": {},
     "output_type": "execute_result"
    }
   ],
   "source": [
    "dc_seats['Seats'].value_counts()"
   ]
  },
  {
   "cell_type": "code",
   "execution_count": 46,
   "id": "df489c50",
   "metadata": {},
   "outputs": [],
   "source": [
    "def seat(x):\n",
    "    if \"Seats\" in x:\n",
    "        l=x.split()\n",
    "        res=int(l[0])\n",
    "        return res\n",
    "\n",
    "dc_seats['Seats']=dc_seats['Seats'].apply(seat)"
   ]
  },
  {
   "cell_type": "code",
   "execution_count": 47,
   "id": "3c63333e",
   "metadata": {},
   "outputs": [
    {
     "data": {
      "text/plain": [
       "5    4603\n",
       "7     626\n",
       "4      88\n",
       "6      60\n",
       "8      54\n",
       "2       5\n",
       "Name: Seats, dtype: int64"
      ]
     },
     "execution_count": 47,
     "metadata": {},
     "output_type": "execute_result"
    }
   ],
   "source": [
    "dc_seats['Seats'].value_counts()"
   ]
  },
  {
   "cell_type": "code",
   "execution_count": 48,
   "id": "3a25e98f",
   "metadata": {},
   "outputs": [
    {
     "data": {
      "text/html": [
       "<div>\n",
       "<style scoped>\n",
       "    .dataframe tbody tr th:only-of-type {\n",
       "        vertical-align: middle;\n",
       "    }\n",
       "\n",
       "    .dataframe tbody tr th {\n",
       "        vertical-align: top;\n",
       "    }\n",
       "\n",
       "    .dataframe thead th {\n",
       "        text-align: right;\n",
       "    }\n",
       "</style>\n",
       "<table border=\"1\" class=\"dataframe\">\n",
       "  <thead>\n",
       "    <tr style=\"text-align: right;\">\n",
       "      <th></th>\n",
       "      <th>car_name</th>\n",
       "      <th>price</th>\n",
       "      <th>kms_driven</th>\n",
       "      <th>fuel_type</th>\n",
       "      <th>transmission</th>\n",
       "      <th>ownership</th>\n",
       "      <th>manufacture</th>\n",
       "      <th>engine_cc</th>\n",
       "      <th>Seats</th>\n",
       "      <th>price_in_lakhs</th>\n",
       "    </tr>\n",
       "  </thead>\n",
       "  <tbody>\n",
       "    <tr>\n",
       "      <th>0</th>\n",
       "      <td>Jeep Compass 2.0 Longitude Option BSIV</td>\n",
       "      <td>1003000.0</td>\n",
       "      <td>86226.0</td>\n",
       "      <td>Diesel</td>\n",
       "      <td>Manual</td>\n",
       "      <td>1</td>\n",
       "      <td>2017</td>\n",
       "      <td>1956.0</td>\n",
       "      <td>5</td>\n",
       "      <td>10.03</td>\n",
       "    </tr>\n",
       "    <tr>\n",
       "      <th>1</th>\n",
       "      <td>Renault Duster RXZ Turbo CVT</td>\n",
       "      <td>1283000.0</td>\n",
       "      <td>13248.0</td>\n",
       "      <td>Petrol</td>\n",
       "      <td>Automatic</td>\n",
       "      <td>1</td>\n",
       "      <td>2021</td>\n",
       "      <td>1330.0</td>\n",
       "      <td>5</td>\n",
       "      <td>12.83</td>\n",
       "    </tr>\n",
       "    <tr>\n",
       "      <th>2</th>\n",
       "      <td>Toyota Camry 2.5 G</td>\n",
       "      <td>1640000.0</td>\n",
       "      <td>60343.0</td>\n",
       "      <td>Petrol</td>\n",
       "      <td>Automatic</td>\n",
       "      <td>1</td>\n",
       "      <td>2016</td>\n",
       "      <td>2494.0</td>\n",
       "      <td>5</td>\n",
       "      <td>16.40</td>\n",
       "    </tr>\n",
       "    <tr>\n",
       "      <th>3</th>\n",
       "      <td>Honda Jazz VX CVT</td>\n",
       "      <td>777000.0</td>\n",
       "      <td>26696.0</td>\n",
       "      <td>Petrol</td>\n",
       "      <td>Automatic</td>\n",
       "      <td>1</td>\n",
       "      <td>2018</td>\n",
       "      <td>1199.0</td>\n",
       "      <td>5</td>\n",
       "      <td>7.77</td>\n",
       "    </tr>\n",
       "    <tr>\n",
       "      <th>4</th>\n",
       "      <td>Volkswagen Polo 1.2 MPI Highline</td>\n",
       "      <td>515000.0</td>\n",
       "      <td>69414.0</td>\n",
       "      <td>Petrol</td>\n",
       "      <td>Manual</td>\n",
       "      <td>1</td>\n",
       "      <td>2016</td>\n",
       "      <td>1199.0</td>\n",
       "      <td>5</td>\n",
       "      <td>5.15</td>\n",
       "    </tr>\n",
       "  </tbody>\n",
       "</table>\n",
       "</div>"
      ],
      "text/plain": [
       "                                 car_name      price  kms_driven fuel_type  \\\n",
       "0  Jeep Compass 2.0 Longitude Option BSIV  1003000.0     86226.0    Diesel   \n",
       "1            Renault Duster RXZ Turbo CVT  1283000.0     13248.0    Petrol   \n",
       "2                      Toyota Camry 2.5 G  1640000.0     60343.0    Petrol   \n",
       "3                       Honda Jazz VX CVT   777000.0     26696.0    Petrol   \n",
       "4        Volkswagen Polo 1.2 MPI Highline   515000.0     69414.0    Petrol   \n",
       "\n",
       "  transmission  ownership  manufacture  engine_cc  Seats  price_in_lakhs  \n",
       "0       Manual          1         2017     1956.0      5           10.03  \n",
       "1    Automatic          1         2021     1330.0      5           12.83  \n",
       "2    Automatic          1         2016     2494.0      5           16.40  \n",
       "3    Automatic          1         2018     1199.0      5            7.77  \n",
       "4       Manual          1         2016     1199.0      5            5.15  "
      ]
     },
     "execution_count": 48,
     "metadata": {},
     "output_type": "execute_result"
    }
   ],
   "source": [
    "dc_seats.head()"
   ]
  },
  {
   "cell_type": "markdown",
   "id": "b20caf5e",
   "metadata": {},
   "source": [
    "### 6.6 car_name"
   ]
  },
  {
   "cell_type": "markdown",
   "id": "8b995ad4",
   "metadata": {},
   "source": [
    "create new columns with brand name and model name\n"
   ]
  },
  {
   "cell_type": "code",
   "execution_count": 49,
   "id": "bc30083d",
   "metadata": {},
   "outputs": [],
   "source": [
    "dc_car=dc_seats.copy()"
   ]
  },
  {
   "cell_type": "code",
   "execution_count": 50,
   "id": "e7985507",
   "metadata": {},
   "outputs": [
    {
     "data": {
      "text/html": [
       "<div>\n",
       "<style scoped>\n",
       "    .dataframe tbody tr th:only-of-type {\n",
       "        vertical-align: middle;\n",
       "    }\n",
       "\n",
       "    .dataframe tbody tr th {\n",
       "        vertical-align: top;\n",
       "    }\n",
       "\n",
       "    .dataframe thead th {\n",
       "        text-align: right;\n",
       "    }\n",
       "</style>\n",
       "<table border=\"1\" class=\"dataframe\">\n",
       "  <thead>\n",
       "    <tr style=\"text-align: right;\">\n",
       "      <th></th>\n",
       "      <th>car_name</th>\n",
       "    </tr>\n",
       "  </thead>\n",
       "  <tbody>\n",
       "    <tr>\n",
       "      <th>0</th>\n",
       "      <td>Jeep Compass 2.0 Longitude Option BSIV</td>\n",
       "    </tr>\n",
       "    <tr>\n",
       "      <th>1</th>\n",
       "      <td>Renault Duster RXZ Turbo CVT</td>\n",
       "    </tr>\n",
       "    <tr>\n",
       "      <th>2</th>\n",
       "      <td>Toyota Camry 2.5 G</td>\n",
       "    </tr>\n",
       "    <tr>\n",
       "      <th>3</th>\n",
       "      <td>Honda Jazz VX CVT</td>\n",
       "    </tr>\n",
       "    <tr>\n",
       "      <th>4</th>\n",
       "      <td>Volkswagen Polo 1.2 MPI Highline</td>\n",
       "    </tr>\n",
       "    <tr>\n",
       "      <th>...</th>\n",
       "      <td>...</td>\n",
       "    </tr>\n",
       "    <tr>\n",
       "      <th>5507</th>\n",
       "      <td>BMW X1 sDrive 20d xLine</td>\n",
       "    </tr>\n",
       "    <tr>\n",
       "      <th>5508</th>\n",
       "      <td>BMW M Series M4 Coupe</td>\n",
       "    </tr>\n",
       "    <tr>\n",
       "      <th>5509</th>\n",
       "      <td>Jaguar XF 2.2 Litre Luxury</td>\n",
       "    </tr>\n",
       "    <tr>\n",
       "      <th>5510</th>\n",
       "      <td>BMW 7 Series 730Ld</td>\n",
       "    </tr>\n",
       "    <tr>\n",
       "      <th>5511</th>\n",
       "      <td>BMW 5 Series 520d M Sport</td>\n",
       "    </tr>\n",
       "  </tbody>\n",
       "</table>\n",
       "<p>5436 rows × 1 columns</p>\n",
       "</div>"
      ],
      "text/plain": [
       "                                    car_name\n",
       "0     Jeep Compass 2.0 Longitude Option BSIV\n",
       "1               Renault Duster RXZ Turbo CVT\n",
       "2                         Toyota Camry 2.5 G\n",
       "3                          Honda Jazz VX CVT\n",
       "4           Volkswagen Polo 1.2 MPI Highline\n",
       "...                                      ...\n",
       "5507                 BMW X1 sDrive 20d xLine\n",
       "5508                   BMW M Series M4 Coupe\n",
       "5509              Jaguar XF 2.2 Litre Luxury\n",
       "5510                      BMW 7 Series 730Ld\n",
       "5511               BMW 5 Series 520d M Sport\n",
       "\n",
       "[5436 rows x 1 columns]"
      ]
     },
     "execution_count": 50,
     "metadata": {},
     "output_type": "execute_result"
    }
   ],
   "source": [
    "dc_car['car_name'].to_frame()"
   ]
  },
  {
   "cell_type": "code",
   "execution_count": 51,
   "id": "aee5f912",
   "metadata": {},
   "outputs": [
    {
     "data": {
      "text/plain": [
       "1896"
      ]
     },
     "execution_count": 51,
     "metadata": {},
     "output_type": "execute_result"
    }
   ],
   "source": [
    "len(dc_car['car_name'].value_counts())"
   ]
  },
  {
   "cell_type": "code",
   "execution_count": 52,
   "id": "c2b944cd",
   "metadata": {},
   "outputs": [
    {
     "data": {
      "text/html": [
       "<div>\n",
       "<style scoped>\n",
       "    .dataframe tbody tr th:only-of-type {\n",
       "        vertical-align: middle;\n",
       "    }\n",
       "\n",
       "    .dataframe tbody tr th {\n",
       "        vertical-align: top;\n",
       "    }\n",
       "\n",
       "    .dataframe thead th {\n",
       "        text-align: right;\n",
       "    }\n",
       "</style>\n",
       "<table border=\"1\" class=\"dataframe\">\n",
       "  <thead>\n",
       "    <tr style=\"text-align: right;\">\n",
       "      <th></th>\n",
       "      <th>0</th>\n",
       "      <th>1</th>\n",
       "    </tr>\n",
       "  </thead>\n",
       "  <tbody>\n",
       "    <tr>\n",
       "      <th>0</th>\n",
       "      <td>Jeep</td>\n",
       "      <td>Compass 2.0 Longitude Option BSIV</td>\n",
       "    </tr>\n",
       "    <tr>\n",
       "      <th>1</th>\n",
       "      <td>Renault</td>\n",
       "      <td>Duster RXZ Turbo CVT</td>\n",
       "    </tr>\n",
       "    <tr>\n",
       "      <th>2</th>\n",
       "      <td>Toyota</td>\n",
       "      <td>Camry 2.5 G</td>\n",
       "    </tr>\n",
       "    <tr>\n",
       "      <th>3</th>\n",
       "      <td>Honda</td>\n",
       "      <td>Jazz VX CVT</td>\n",
       "    </tr>\n",
       "    <tr>\n",
       "      <th>4</th>\n",
       "      <td>Volkswagen</td>\n",
       "      <td>Polo 1.2 MPI Highline</td>\n",
       "    </tr>\n",
       "    <tr>\n",
       "      <th>...</th>\n",
       "      <td>...</td>\n",
       "      <td>...</td>\n",
       "    </tr>\n",
       "    <tr>\n",
       "      <th>5507</th>\n",
       "      <td>BMW</td>\n",
       "      <td>X1 sDrive 20d xLine</td>\n",
       "    </tr>\n",
       "    <tr>\n",
       "      <th>5508</th>\n",
       "      <td>BMW</td>\n",
       "      <td>M Series M4 Coupe</td>\n",
       "    </tr>\n",
       "    <tr>\n",
       "      <th>5509</th>\n",
       "      <td>Jaguar</td>\n",
       "      <td>XF 2.2 Litre Luxury</td>\n",
       "    </tr>\n",
       "    <tr>\n",
       "      <th>5510</th>\n",
       "      <td>BMW</td>\n",
       "      <td>7 Series 730Ld</td>\n",
       "    </tr>\n",
       "    <tr>\n",
       "      <th>5511</th>\n",
       "      <td>BMW</td>\n",
       "      <td>5 Series 520d M Sport</td>\n",
       "    </tr>\n",
       "  </tbody>\n",
       "</table>\n",
       "<p>5436 rows × 2 columns</p>\n",
       "</div>"
      ],
      "text/plain": [
       "               0                                  1\n",
       "0           Jeep  Compass 2.0 Longitude Option BSIV\n",
       "1        Renault               Duster RXZ Turbo CVT\n",
       "2         Toyota                        Camry 2.5 G\n",
       "3          Honda                        Jazz VX CVT\n",
       "4     Volkswagen              Polo 1.2 MPI Highline\n",
       "...          ...                                ...\n",
       "5507         BMW                X1 sDrive 20d xLine\n",
       "5508         BMW                  M Series M4 Coupe\n",
       "5509      Jaguar                XF 2.2 Litre Luxury\n",
       "5510         BMW                     7 Series 730Ld\n",
       "5511         BMW              5 Series 520d M Sport\n",
       "\n",
       "[5436 rows x 2 columns]"
      ]
     },
     "execution_count": 52,
     "metadata": {},
     "output_type": "execute_result"
    }
   ],
   "source": [
    "first_expand=dc_car['car_name'].str.split(\" \",n=1, expand=True)\n",
    "first_expand"
   ]
  },
  {
   "cell_type": "code",
   "execution_count": 53,
   "id": "f2ed86be",
   "metadata": {},
   "outputs": [],
   "source": [
    "dc_car.insert(1,\"Brand\",value=first_expand[0])"
   ]
  },
  {
   "cell_type": "code",
   "execution_count": 54,
   "id": "54b45927",
   "metadata": {},
   "outputs": [],
   "source": [
    "dc_car.insert(2,\"model\",value=first_expand[1])"
   ]
  },
  {
   "cell_type": "code",
   "execution_count": 55,
   "id": "c71d29dc",
   "metadata": {},
   "outputs": [
    {
     "data": {
      "text/html": [
       "<div>\n",
       "<style scoped>\n",
       "    .dataframe tbody tr th:only-of-type {\n",
       "        vertical-align: middle;\n",
       "    }\n",
       "\n",
       "    .dataframe tbody tr th {\n",
       "        vertical-align: top;\n",
       "    }\n",
       "\n",
       "    .dataframe thead th {\n",
       "        text-align: right;\n",
       "    }\n",
       "</style>\n",
       "<table border=\"1\" class=\"dataframe\">\n",
       "  <thead>\n",
       "    <tr style=\"text-align: right;\">\n",
       "      <th></th>\n",
       "      <th>car_name</th>\n",
       "      <th>Brand</th>\n",
       "      <th>model</th>\n",
       "      <th>price</th>\n",
       "      <th>kms_driven</th>\n",
       "      <th>fuel_type</th>\n",
       "      <th>transmission</th>\n",
       "      <th>ownership</th>\n",
       "      <th>manufacture</th>\n",
       "      <th>engine_cc</th>\n",
       "      <th>Seats</th>\n",
       "      <th>price_in_lakhs</th>\n",
       "    </tr>\n",
       "  </thead>\n",
       "  <tbody>\n",
       "    <tr>\n",
       "      <th>0</th>\n",
       "      <td>Jeep Compass 2.0 Longitude Option BSIV</td>\n",
       "      <td>Jeep</td>\n",
       "      <td>Compass 2.0 Longitude Option BSIV</td>\n",
       "      <td>1003000.0</td>\n",
       "      <td>86226.0</td>\n",
       "      <td>Diesel</td>\n",
       "      <td>Manual</td>\n",
       "      <td>1</td>\n",
       "      <td>2017</td>\n",
       "      <td>1956.0</td>\n",
       "      <td>5</td>\n",
       "      <td>10.03</td>\n",
       "    </tr>\n",
       "    <tr>\n",
       "      <th>1</th>\n",
       "      <td>Renault Duster RXZ Turbo CVT</td>\n",
       "      <td>Renault</td>\n",
       "      <td>Duster RXZ Turbo CVT</td>\n",
       "      <td>1283000.0</td>\n",
       "      <td>13248.0</td>\n",
       "      <td>Petrol</td>\n",
       "      <td>Automatic</td>\n",
       "      <td>1</td>\n",
       "      <td>2021</td>\n",
       "      <td>1330.0</td>\n",
       "      <td>5</td>\n",
       "      <td>12.83</td>\n",
       "    </tr>\n",
       "    <tr>\n",
       "      <th>2</th>\n",
       "      <td>Toyota Camry 2.5 G</td>\n",
       "      <td>Toyota</td>\n",
       "      <td>Camry 2.5 G</td>\n",
       "      <td>1640000.0</td>\n",
       "      <td>60343.0</td>\n",
       "      <td>Petrol</td>\n",
       "      <td>Automatic</td>\n",
       "      <td>1</td>\n",
       "      <td>2016</td>\n",
       "      <td>2494.0</td>\n",
       "      <td>5</td>\n",
       "      <td>16.40</td>\n",
       "    </tr>\n",
       "    <tr>\n",
       "      <th>3</th>\n",
       "      <td>Honda Jazz VX CVT</td>\n",
       "      <td>Honda</td>\n",
       "      <td>Jazz VX CVT</td>\n",
       "      <td>777000.0</td>\n",
       "      <td>26696.0</td>\n",
       "      <td>Petrol</td>\n",
       "      <td>Automatic</td>\n",
       "      <td>1</td>\n",
       "      <td>2018</td>\n",
       "      <td>1199.0</td>\n",
       "      <td>5</td>\n",
       "      <td>7.77</td>\n",
       "    </tr>\n",
       "    <tr>\n",
       "      <th>4</th>\n",
       "      <td>Volkswagen Polo 1.2 MPI Highline</td>\n",
       "      <td>Volkswagen</td>\n",
       "      <td>Polo 1.2 MPI Highline</td>\n",
       "      <td>515000.0</td>\n",
       "      <td>69414.0</td>\n",
       "      <td>Petrol</td>\n",
       "      <td>Manual</td>\n",
       "      <td>1</td>\n",
       "      <td>2016</td>\n",
       "      <td>1199.0</td>\n",
       "      <td>5</td>\n",
       "      <td>5.15</td>\n",
       "    </tr>\n",
       "  </tbody>\n",
       "</table>\n",
       "</div>"
      ],
      "text/plain": [
       "                                 car_name       Brand  \\\n",
       "0  Jeep Compass 2.0 Longitude Option BSIV        Jeep   \n",
       "1            Renault Duster RXZ Turbo CVT     Renault   \n",
       "2                      Toyota Camry 2.5 G      Toyota   \n",
       "3                       Honda Jazz VX CVT       Honda   \n",
       "4        Volkswagen Polo 1.2 MPI Highline  Volkswagen   \n",
       "\n",
       "                               model      price  kms_driven fuel_type  \\\n",
       "0  Compass 2.0 Longitude Option BSIV  1003000.0     86226.0    Diesel   \n",
       "1               Duster RXZ Turbo CVT  1283000.0     13248.0    Petrol   \n",
       "2                        Camry 2.5 G  1640000.0     60343.0    Petrol   \n",
       "3                        Jazz VX CVT   777000.0     26696.0    Petrol   \n",
       "4              Polo 1.2 MPI Highline   515000.0     69414.0    Petrol   \n",
       "\n",
       "  transmission  ownership  manufacture  engine_cc  Seats  price_in_lakhs  \n",
       "0       Manual          1         2017     1956.0      5           10.03  \n",
       "1    Automatic          1         2021     1330.0      5           12.83  \n",
       "2    Automatic          1         2016     2494.0      5           16.40  \n",
       "3    Automatic          1         2018     1199.0      5            7.77  \n",
       "4       Manual          1         2016     1199.0      5            5.15  "
      ]
     },
     "execution_count": 55,
     "metadata": {},
     "output_type": "execute_result"
    }
   ],
   "source": [
    "dc_car.head()"
   ]
  },
  {
   "cell_type": "code",
   "execution_count": 56,
   "id": "bad02357",
   "metadata": {},
   "outputs": [
    {
     "data": {
      "text/plain": [
       "32"
      ]
     },
     "execution_count": 56,
     "metadata": {},
     "output_type": "execute_result"
    }
   ],
   "source": [
    "len(dc_car['Brand'].value_counts())"
   ]
  },
  {
   "cell_type": "code",
   "execution_count": 57,
   "id": "2b336fae",
   "metadata": {},
   "outputs": [
    {
     "data": {
      "text/plain": [
       "Maruti           1369\n",
       "Hyundai          1009\n",
       "Honda             492\n",
       "Mahindra          309\n",
       "Mercedes-Benz     276\n",
       "Tata              268\n",
       "Toyota            263\n",
       "Ford              168\n",
       "Renault           167\n",
       "BMW               166\n",
       "Audi              162\n",
       "Volkswagen        159\n",
       "Skoda             113\n",
       "Chevrolet          82\n",
       "Nissan             63\n",
       "MG                 61\n",
       "Kia                61\n",
       "Jeep               48\n",
       "Land               47\n",
       "Volvo              30\n",
       "Jaguar             29\n",
       "Datsun             25\n",
       "Fiat               17\n",
       "Mini               13\n",
       "Porsche            10\n",
       "Lexus              10\n",
       "Mitsubishi          8\n",
       "Maserati            4\n",
       "Isuzu               4\n",
       "Force               1\n",
       "Premier             1\n",
       "Bentley             1\n",
       "Name: Brand, dtype: int64"
      ]
     },
     "execution_count": 57,
     "metadata": {},
     "output_type": "execute_result"
    }
   ],
   "source": [
    "dc_car['Brand'].value_counts() #seems good"
   ]
  },
  {
   "cell_type": "code",
   "execution_count": 58,
   "id": "201d6460",
   "metadata": {},
   "outputs": [
    {
     "data": {
      "text/plain": [
       "1896"
      ]
     },
     "execution_count": 58,
     "metadata": {},
     "output_type": "execute_result"
    }
   ],
   "source": [
    "len(dc_car['model'].value_counts())"
   ]
  },
  {
   "cell_type": "code",
   "execution_count": 59,
   "id": "d51a5198",
   "metadata": {},
   "outputs": [
    {
     "data": {
      "text/html": [
       "<div>\n",
       "<style scoped>\n",
       "    .dataframe tbody tr th:only-of-type {\n",
       "        vertical-align: middle;\n",
       "    }\n",
       "\n",
       "    .dataframe tbody tr th {\n",
       "        vertical-align: top;\n",
       "    }\n",
       "\n",
       "    .dataframe thead th {\n",
       "        text-align: right;\n",
       "    }\n",
       "</style>\n",
       "<table border=\"1\" class=\"dataframe\">\n",
       "  <thead>\n",
       "    <tr style=\"text-align: right;\">\n",
       "      <th></th>\n",
       "      <th>model</th>\n",
       "    </tr>\n",
       "  </thead>\n",
       "  <tbody>\n",
       "    <tr>\n",
       "      <th>Alto 800 LXI</th>\n",
       "      <td>53</td>\n",
       "    </tr>\n",
       "    <tr>\n",
       "      <th>Swift VXI</th>\n",
       "      <td>46</td>\n",
       "    </tr>\n",
       "    <tr>\n",
       "      <th>Wagon R VXI BS IV</th>\n",
       "      <td>43</td>\n",
       "    </tr>\n",
       "    <tr>\n",
       "      <th>Swift Dzire VXI</th>\n",
       "      <td>42</td>\n",
       "    </tr>\n",
       "    <tr>\n",
       "      <th>Swift Dzire VDI</th>\n",
       "      <td>41</td>\n",
       "    </tr>\n",
       "    <tr>\n",
       "      <th>...</th>\n",
       "      <td>...</td>\n",
       "    </tr>\n",
       "    <tr>\n",
       "      <th>Creta 1.6 E Plus</th>\n",
       "      <td>1</td>\n",
       "    </tr>\n",
       "    <tr>\n",
       "      <th>Accent VIVA CRDi</th>\n",
       "      <td>1</td>\n",
       "    </tr>\n",
       "    <tr>\n",
       "      <th>City CVT</th>\n",
       "      <td>1</td>\n",
       "    </tr>\n",
       "    <tr>\n",
       "      <th>Esteem Vxi - BSIII</th>\n",
       "      <td>1</td>\n",
       "    </tr>\n",
       "    <tr>\n",
       "      <th>M Series M4 Coupe</th>\n",
       "      <td>1</td>\n",
       "    </tr>\n",
       "  </tbody>\n",
       "</table>\n",
       "<p>1896 rows × 1 columns</p>\n",
       "</div>"
      ],
      "text/plain": [
       "                    model\n",
       "Alto 800 LXI           53\n",
       "Swift VXI              46\n",
       "Wagon R VXI BS IV      43\n",
       "Swift Dzire VXI        42\n",
       "Swift Dzire VDI        41\n",
       "...                   ...\n",
       "Creta 1.6 E Plus        1\n",
       "Accent VIVA CRDi        1\n",
       "City CVT                1\n",
       "Esteem Vxi - BSIII      1\n",
       "M Series M4 Coupe       1\n",
       "\n",
       "[1896 rows x 1 columns]"
      ]
     },
     "execution_count": 59,
     "metadata": {},
     "output_type": "execute_result"
    }
   ],
   "source": [
    "dc_car['model'].value_counts().to_frame()"
   ]
  },
  {
   "cell_type": "code",
   "execution_count": 60,
   "id": "e56379dc",
   "metadata": {},
   "outputs": [],
   "source": [
    "dc_car.drop(columns='car_name', inplace=True)"
   ]
  },
  {
   "cell_type": "code",
   "execution_count": 61,
   "id": "1d6e9be8",
   "metadata": {},
   "outputs": [
    {
     "data": {
      "text/html": [
       "<div>\n",
       "<style scoped>\n",
       "    .dataframe tbody tr th:only-of-type {\n",
       "        vertical-align: middle;\n",
       "    }\n",
       "\n",
       "    .dataframe tbody tr th {\n",
       "        vertical-align: top;\n",
       "    }\n",
       "\n",
       "    .dataframe thead th {\n",
       "        text-align: right;\n",
       "    }\n",
       "</style>\n",
       "<table border=\"1\" class=\"dataframe\">\n",
       "  <thead>\n",
       "    <tr style=\"text-align: right;\">\n",
       "      <th></th>\n",
       "      <th>Brand</th>\n",
       "      <th>model</th>\n",
       "      <th>price</th>\n",
       "      <th>kms_driven</th>\n",
       "      <th>fuel_type</th>\n",
       "      <th>transmission</th>\n",
       "      <th>ownership</th>\n",
       "      <th>manufacture</th>\n",
       "      <th>engine_cc</th>\n",
       "      <th>Seats</th>\n",
       "      <th>price_in_lakhs</th>\n",
       "    </tr>\n",
       "  </thead>\n",
       "  <tbody>\n",
       "    <tr>\n",
       "      <th>0</th>\n",
       "      <td>Jeep</td>\n",
       "      <td>Compass 2.0 Longitude Option BSIV</td>\n",
       "      <td>1003000.0</td>\n",
       "      <td>86226.0</td>\n",
       "      <td>Diesel</td>\n",
       "      <td>Manual</td>\n",
       "      <td>1</td>\n",
       "      <td>2017</td>\n",
       "      <td>1956.0</td>\n",
       "      <td>5</td>\n",
       "      <td>10.03</td>\n",
       "    </tr>\n",
       "    <tr>\n",
       "      <th>1</th>\n",
       "      <td>Renault</td>\n",
       "      <td>Duster RXZ Turbo CVT</td>\n",
       "      <td>1283000.0</td>\n",
       "      <td>13248.0</td>\n",
       "      <td>Petrol</td>\n",
       "      <td>Automatic</td>\n",
       "      <td>1</td>\n",
       "      <td>2021</td>\n",
       "      <td>1330.0</td>\n",
       "      <td>5</td>\n",
       "      <td>12.83</td>\n",
       "    </tr>\n",
       "  </tbody>\n",
       "</table>\n",
       "</div>"
      ],
      "text/plain": [
       "     Brand                              model      price  kms_driven  \\\n",
       "0     Jeep  Compass 2.0 Longitude Option BSIV  1003000.0     86226.0   \n",
       "1  Renault               Duster RXZ Turbo CVT  1283000.0     13248.0   \n",
       "\n",
       "  fuel_type transmission  ownership  manufacture  engine_cc  Seats  \\\n",
       "0    Diesel       Manual          1         2017     1956.0      5   \n",
       "1    Petrol    Automatic          1         2021     1330.0      5   \n",
       "\n",
       "   price_in_lakhs  \n",
       "0           10.03  \n",
       "1           12.83  "
      ]
     },
     "execution_count": 61,
     "metadata": {},
     "output_type": "execute_result"
    }
   ],
   "source": [
    "dc_car.head(2)"
   ]
  },
  {
   "cell_type": "markdown",
   "id": "ae285e04",
   "metadata": {},
   "source": [
    "### 6.7 Manufacture"
   ]
  },
  {
   "cell_type": "code",
   "execution_count": 62,
   "id": "13d2ffe3",
   "metadata": {},
   "outputs": [
    {
     "name": "stdout",
     "output_type": "stream",
     "text": [
      "<class 'pandas.core.frame.DataFrame'>\n",
      "Int64Index: 5436 entries, 0 to 5511\n",
      "Data columns (total 11 columns):\n",
      " #   Column          Non-Null Count  Dtype  \n",
      "---  ------          --------------  -----  \n",
      " 0   Brand           5436 non-null   object \n",
      " 1   model           5436 non-null   object \n",
      " 2   price           5436 non-null   float64\n",
      " 3   kms_driven      5436 non-null   float64\n",
      " 4   fuel_type       5436 non-null   object \n",
      " 5   transmission    5436 non-null   object \n",
      " 6   ownership       5436 non-null   int64  \n",
      " 7   manufacture     5436 non-null   object \n",
      " 8   engine_cc       5436 non-null   float64\n",
      " 9   Seats           5436 non-null   int64  \n",
      " 10  price_in_lakhs  5436 non-null   float64\n",
      "dtypes: float64(4), int64(2), object(5)\n",
      "memory usage: 509.6+ KB\n"
     ]
    }
   ],
   "source": [
    "dc_car['manufacture']=dc_car['manufacture'].astype(object)\n",
    "dc_car.info()"
   ]
  },
  {
   "cell_type": "code",
   "execution_count": 63,
   "id": "80b86ccf",
   "metadata": {},
   "outputs": [
    {
     "data": {
      "text/html": [
       "<div>\n",
       "<style scoped>\n",
       "    .dataframe tbody tr th:only-of-type {\n",
       "        vertical-align: middle;\n",
       "    }\n",
       "\n",
       "    .dataframe tbody tr th {\n",
       "        vertical-align: top;\n",
       "    }\n",
       "\n",
       "    .dataframe thead th {\n",
       "        text-align: right;\n",
       "    }\n",
       "</style>\n",
       "<table border=\"1\" class=\"dataframe\">\n",
       "  <thead>\n",
       "    <tr style=\"text-align: right;\">\n",
       "      <th></th>\n",
       "      <th>Brand</th>\n",
       "      <th>model</th>\n",
       "      <th>price</th>\n",
       "      <th>kms_driven</th>\n",
       "      <th>fuel_type</th>\n",
       "      <th>transmission</th>\n",
       "      <th>ownership</th>\n",
       "      <th>manufacture</th>\n",
       "      <th>engine_cc</th>\n",
       "      <th>Seats</th>\n",
       "      <th>price_in_lakhs</th>\n",
       "    </tr>\n",
       "  </thead>\n",
       "  <tbody>\n",
       "    <tr>\n",
       "      <th>0</th>\n",
       "      <td>Jeep</td>\n",
       "      <td>Compass 2.0 Longitude Option BSIV</td>\n",
       "      <td>1003000.0</td>\n",
       "      <td>86226.0</td>\n",
       "      <td>Diesel</td>\n",
       "      <td>Manual</td>\n",
       "      <td>1</td>\n",
       "      <td>2017</td>\n",
       "      <td>1956.0</td>\n",
       "      <td>5</td>\n",
       "      <td>10.03</td>\n",
       "    </tr>\n",
       "    <tr>\n",
       "      <th>1</th>\n",
       "      <td>Renault</td>\n",
       "      <td>Duster RXZ Turbo CVT</td>\n",
       "      <td>1283000.0</td>\n",
       "      <td>13248.0</td>\n",
       "      <td>Petrol</td>\n",
       "      <td>Automatic</td>\n",
       "      <td>1</td>\n",
       "      <td>2021</td>\n",
       "      <td>1330.0</td>\n",
       "      <td>5</td>\n",
       "      <td>12.83</td>\n",
       "    </tr>\n",
       "    <tr>\n",
       "      <th>2</th>\n",
       "      <td>Toyota</td>\n",
       "      <td>Camry 2.5 G</td>\n",
       "      <td>1640000.0</td>\n",
       "      <td>60343.0</td>\n",
       "      <td>Petrol</td>\n",
       "      <td>Automatic</td>\n",
       "      <td>1</td>\n",
       "      <td>2016</td>\n",
       "      <td>2494.0</td>\n",
       "      <td>5</td>\n",
       "      <td>16.40</td>\n",
       "    </tr>\n",
       "    <tr>\n",
       "      <th>3</th>\n",
       "      <td>Honda</td>\n",
       "      <td>Jazz VX CVT</td>\n",
       "      <td>777000.0</td>\n",
       "      <td>26696.0</td>\n",
       "      <td>Petrol</td>\n",
       "      <td>Automatic</td>\n",
       "      <td>1</td>\n",
       "      <td>2018</td>\n",
       "      <td>1199.0</td>\n",
       "      <td>5</td>\n",
       "      <td>7.77</td>\n",
       "    </tr>\n",
       "    <tr>\n",
       "      <th>4</th>\n",
       "      <td>Volkswagen</td>\n",
       "      <td>Polo 1.2 MPI Highline</td>\n",
       "      <td>515000.0</td>\n",
       "      <td>69414.0</td>\n",
       "      <td>Petrol</td>\n",
       "      <td>Manual</td>\n",
       "      <td>1</td>\n",
       "      <td>2016</td>\n",
       "      <td>1199.0</td>\n",
       "      <td>5</td>\n",
       "      <td>5.15</td>\n",
       "    </tr>\n",
       "    <tr>\n",
       "      <th>...</th>\n",
       "      <td>...</td>\n",
       "      <td>...</td>\n",
       "      <td>...</td>\n",
       "      <td>...</td>\n",
       "      <td>...</td>\n",
       "      <td>...</td>\n",
       "      <td>...</td>\n",
       "      <td>...</td>\n",
       "      <td>...</td>\n",
       "      <td>...</td>\n",
       "      <td>...</td>\n",
       "    </tr>\n",
       "    <tr>\n",
       "      <th>5507</th>\n",
       "      <td>BMW</td>\n",
       "      <td>X1 sDrive 20d xLine</td>\n",
       "      <td>2890000.0</td>\n",
       "      <td>45000.0</td>\n",
       "      <td>Diesel</td>\n",
       "      <td>Automatic</td>\n",
       "      <td>1</td>\n",
       "      <td>2018</td>\n",
       "      <td>2995.0</td>\n",
       "      <td>7</td>\n",
       "      <td>28.90</td>\n",
       "    </tr>\n",
       "    <tr>\n",
       "      <th>5508</th>\n",
       "      <td>BMW</td>\n",
       "      <td>M Series M4 Coupe</td>\n",
       "      <td>6490000.0</td>\n",
       "      <td>29000.0</td>\n",
       "      <td>Petrol</td>\n",
       "      <td>Automatic</td>\n",
       "      <td>2</td>\n",
       "      <td>2015</td>\n",
       "      <td>1968.0</td>\n",
       "      <td>5</td>\n",
       "      <td>64.90</td>\n",
       "    </tr>\n",
       "    <tr>\n",
       "      <th>5509</th>\n",
       "      <td>Jaguar</td>\n",
       "      <td>XF 2.2 Litre Luxury</td>\n",
       "      <td>1375000.0</td>\n",
       "      <td>90000.0</td>\n",
       "      <td>Diesel</td>\n",
       "      <td>Automatic</td>\n",
       "      <td>2</td>\n",
       "      <td>2013</td>\n",
       "      <td>2755.0</td>\n",
       "      <td>5</td>\n",
       "      <td>13.75</td>\n",
       "    </tr>\n",
       "    <tr>\n",
       "      <th>5510</th>\n",
       "      <td>BMW</td>\n",
       "      <td>7 Series 730Ld</td>\n",
       "      <td>2990000.0</td>\n",
       "      <td>79000.0</td>\n",
       "      <td>Diesel</td>\n",
       "      <td>Automatic</td>\n",
       "      <td>3</td>\n",
       "      <td>2015</td>\n",
       "      <td>2967.0</td>\n",
       "      <td>6</td>\n",
       "      <td>29.90</td>\n",
       "    </tr>\n",
       "    <tr>\n",
       "      <th>5511</th>\n",
       "      <td>BMW</td>\n",
       "      <td>5 Series 520d M Sport</td>\n",
       "      <td>3190000.0</td>\n",
       "      <td>42000.0</td>\n",
       "      <td>Diesel</td>\n",
       "      <td>Automatic</td>\n",
       "      <td>2</td>\n",
       "      <td>2017</td>\n",
       "      <td>1991.0</td>\n",
       "      <td>5</td>\n",
       "      <td>31.90</td>\n",
       "    </tr>\n",
       "  </tbody>\n",
       "</table>\n",
       "<p>5436 rows × 11 columns</p>\n",
       "</div>"
      ],
      "text/plain": [
       "           Brand                              model      price  kms_driven  \\\n",
       "0           Jeep  Compass 2.0 Longitude Option BSIV  1003000.0     86226.0   \n",
       "1        Renault               Duster RXZ Turbo CVT  1283000.0     13248.0   \n",
       "2         Toyota                        Camry 2.5 G  1640000.0     60343.0   \n",
       "3          Honda                        Jazz VX CVT   777000.0     26696.0   \n",
       "4     Volkswagen              Polo 1.2 MPI Highline   515000.0     69414.0   \n",
       "...          ...                                ...        ...         ...   \n",
       "5507         BMW                X1 sDrive 20d xLine  2890000.0     45000.0   \n",
       "5508         BMW                  M Series M4 Coupe  6490000.0     29000.0   \n",
       "5509      Jaguar                XF 2.2 Litre Luxury  1375000.0     90000.0   \n",
       "5510         BMW                     7 Series 730Ld  2990000.0     79000.0   \n",
       "5511         BMW              5 Series 520d M Sport  3190000.0     42000.0   \n",
       "\n",
       "     fuel_type transmission  ownership manufacture  engine_cc  Seats  \\\n",
       "0       Diesel       Manual          1        2017     1956.0      5   \n",
       "1       Petrol    Automatic          1        2021     1330.0      5   \n",
       "2       Petrol    Automatic          1        2016     2494.0      5   \n",
       "3       Petrol    Automatic          1        2018     1199.0      5   \n",
       "4       Petrol       Manual          1        2016     1199.0      5   \n",
       "...        ...          ...        ...         ...        ...    ...   \n",
       "5507    Diesel    Automatic          1        2018     2995.0      7   \n",
       "5508    Petrol    Automatic          2        2015     1968.0      5   \n",
       "5509    Diesel    Automatic          2        2013     2755.0      5   \n",
       "5510    Diesel    Automatic          3        2015     2967.0      6   \n",
       "5511    Diesel    Automatic          2        2017     1991.0      5   \n",
       "\n",
       "      price_in_lakhs  \n",
       "0              10.03  \n",
       "1              12.83  \n",
       "2              16.40  \n",
       "3               7.77  \n",
       "4               5.15  \n",
       "...              ...  \n",
       "5507           28.90  \n",
       "5508           64.90  \n",
       "5509           13.75  \n",
       "5510           29.90  \n",
       "5511           31.90  \n",
       "\n",
       "[5436 rows x 11 columns]"
      ]
     },
     "execution_count": 63,
     "metadata": {},
     "output_type": "execute_result"
    }
   ],
   "source": [
    "dc_man=dc_car.copy()\n",
    "dc_man"
   ]
  },
  {
   "cell_type": "markdown",
   "id": "cf4317fd",
   "metadata": {},
   "source": [
    "# 7. Univariate Analysis"
   ]
  },
  {
   "cell_type": "code",
   "execution_count": 64,
   "id": "50e0313f",
   "metadata": {},
   "outputs": [],
   "source": [
    "#use cleaned dataframe as cdf\n",
    "cdf=dc_man.copy()"
   ]
  },
  {
   "cell_type": "code",
   "execution_count": 65,
   "id": "7f5ab5f8",
   "metadata": {},
   "outputs": [
    {
     "data": {
      "text/html": [
       "<div>\n",
       "<style scoped>\n",
       "    .dataframe tbody tr th:only-of-type {\n",
       "        vertical-align: middle;\n",
       "    }\n",
       "\n",
       "    .dataframe tbody tr th {\n",
       "        vertical-align: top;\n",
       "    }\n",
       "\n",
       "    .dataframe thead th {\n",
       "        text-align: right;\n",
       "    }\n",
       "</style>\n",
       "<table border=\"1\" class=\"dataframe\">\n",
       "  <thead>\n",
       "    <tr style=\"text-align: right;\">\n",
       "      <th></th>\n",
       "      <th>Brand</th>\n",
       "      <th>model</th>\n",
       "      <th>price</th>\n",
       "      <th>kms_driven</th>\n",
       "      <th>fuel_type</th>\n",
       "      <th>transmission</th>\n",
       "      <th>ownership</th>\n",
       "      <th>manufacture</th>\n",
       "      <th>engine_cc</th>\n",
       "      <th>Seats</th>\n",
       "      <th>price_in_lakhs</th>\n",
       "    </tr>\n",
       "  </thead>\n",
       "  <tbody>\n",
       "    <tr>\n",
       "      <th>0</th>\n",
       "      <td>Jeep</td>\n",
       "      <td>Compass 2.0 Longitude Option BSIV</td>\n",
       "      <td>1003000.0</td>\n",
       "      <td>86226.0</td>\n",
       "      <td>Diesel</td>\n",
       "      <td>Manual</td>\n",
       "      <td>1</td>\n",
       "      <td>2017</td>\n",
       "      <td>1956.0</td>\n",
       "      <td>5</td>\n",
       "      <td>10.03</td>\n",
       "    </tr>\n",
       "    <tr>\n",
       "      <th>1</th>\n",
       "      <td>Renault</td>\n",
       "      <td>Duster RXZ Turbo CVT</td>\n",
       "      <td>1283000.0</td>\n",
       "      <td>13248.0</td>\n",
       "      <td>Petrol</td>\n",
       "      <td>Automatic</td>\n",
       "      <td>1</td>\n",
       "      <td>2021</td>\n",
       "      <td>1330.0</td>\n",
       "      <td>5</td>\n",
       "      <td>12.83</td>\n",
       "    </tr>\n",
       "    <tr>\n",
       "      <th>2</th>\n",
       "      <td>Toyota</td>\n",
       "      <td>Camry 2.5 G</td>\n",
       "      <td>1640000.0</td>\n",
       "      <td>60343.0</td>\n",
       "      <td>Petrol</td>\n",
       "      <td>Automatic</td>\n",
       "      <td>1</td>\n",
       "      <td>2016</td>\n",
       "      <td>2494.0</td>\n",
       "      <td>5</td>\n",
       "      <td>16.40</td>\n",
       "    </tr>\n",
       "  </tbody>\n",
       "</table>\n",
       "</div>"
      ],
      "text/plain": [
       "     Brand                              model      price  kms_driven  \\\n",
       "0     Jeep  Compass 2.0 Longitude Option BSIV  1003000.0     86226.0   \n",
       "1  Renault               Duster RXZ Turbo CVT  1283000.0     13248.0   \n",
       "2   Toyota                        Camry 2.5 G  1640000.0     60343.0   \n",
       "\n",
       "  fuel_type transmission  ownership manufacture  engine_cc  Seats  \\\n",
       "0    Diesel       Manual          1        2017     1956.0      5   \n",
       "1    Petrol    Automatic          1        2021     1330.0      5   \n",
       "2    Petrol    Automatic          1        2016     2494.0      5   \n",
       "\n",
       "   price_in_lakhs  \n",
       "0           10.03  \n",
       "1           12.83  \n",
       "2           16.40  "
      ]
     },
     "execution_count": 65,
     "metadata": {},
     "output_type": "execute_result"
    }
   ],
   "source": [
    "cdf.head(3)"
   ]
  },
  {
   "cell_type": "markdown",
   "id": "ba77439f",
   "metadata": {},
   "source": [
    "### Brand"
   ]
  },
  {
   "cell_type": "markdown",
   "id": "bec1e9f5",
   "metadata": {},
   "source": [
    "we have 32 brand "
   ]
  },
  {
   "cell_type": "code",
   "execution_count": 66,
   "id": "76d2ad4a",
   "metadata": {},
   "outputs": [
    {
     "data": {
      "text/plain": [
       "<AxesSubplot:xlabel='Count', ylabel='Brand'>"
      ]
     },
     "execution_count": 66,
     "metadata": {},
     "output_type": "execute_result"
    },
    {
     "data": {
      "image/png": "[encoded data removed]",
      "text/plain": [
       "<Figure size 720x936 with 1 Axes>"
      ]
     },
     "metadata": {
      "needs_background": "light"
     },
     "output_type": "display_data"
    }
   ],
   "source": [
    "plt.figure(figsize=(10,13))\n",
    "sns.histplot(y=cdf['Brand'])"
   ]
  },
  {
   "cell_type": "markdown",
   "id": "8b434b99",
   "metadata": {},
   "source": [
    "### model"
   ]
  },
  {
   "cell_type": "markdown",
   "id": "ff307cab",
   "metadata": {},
   "source": [
    "we have 1896 models"
   ]
  },
  {
   "cell_type": "code",
   "execution_count": 92,
   "id": "8aee6b42",
   "metadata": {},
   "outputs": [
    {
     "data": {
      "text/plain": [
       "array(['Compass 2.0 Longitude Option BSIV', 'Duster RXZ Turbo CVT',\n",
       "       'Camry 2.5 G', ..., 'XC 90 D5 Momentum BSIV',\n",
       "       'E-Class E250 Edition E', 'M Series M4 Coupe'], dtype=object)"
      ]
     },
     "execution_count": 92,
     "metadata": {},
     "output_type": "execute_result"
    }
   ],
   "source": [
    "cdf['model'].unique()"
   ]
  },
  {
   "cell_type": "code",
   "execution_count": 93,
   "id": "078495cb",
   "metadata": {},
   "outputs": [
    {
     "data": {
      "text/plain": [
       "1896"
      ]
     },
     "execution_count": 93,
     "metadata": {},
     "output_type": "execute_result"
    }
   ],
   "source": [
    "cdf['model'].nunique()"
   ]
  },
  {
   "cell_type": "markdown",
   "id": "12e296a2",
   "metadata": {},
   "source": [
    "### price_in_lakhs"
   ]
  },
  {
   "cell_type": "markdown",
   "id": "9d269470",
   "metadata": {},
   "source": [
    "price seems to have so many outliers. Still it varies between budget cars and luxury cars"
   ]
  },
  {
   "cell_type": "code",
   "execution_count": 94,
   "id": "bf1ec666",
   "metadata": {},
   "outputs": [
    {
     "data": {
      "text/plain": [
       "<AxesSubplot:xlabel='price_in_lakhs'>"
      ]
     },
     "execution_count": 94,
     "metadata": {},
     "output_type": "execute_result"
    },
    {
     "data": {
      "image/png": "[encoded data removed]",
      "text/plain": [
       "<Figure size 1224x864 with 2 Axes>"
      ]
     },
     "metadata": {
      "needs_background": "light"
     },
     "output_type": "display_data"
    }
   ],
   "source": [
    "plt.figure(figsize=(17,12))\n",
    "plt.subplot(221)\n",
    "sns.distplot(cdf['price_in_lakhs'])\n",
    "\n",
    "plt.subplot(222)\n",
    "sns.boxplot(cdf['price_in_lakhs'])"
   ]
  },
  {
   "cell_type": "code",
   "execution_count": 95,
   "id": "63ae619c",
   "metadata": {},
   "outputs": [
    {
     "data": {
      "text/html": [
       "<div>\n",
       "<style scoped>\n",
       "    .dataframe tbody tr th:only-of-type {\n",
       "        vertical-align: middle;\n",
       "    }\n",
       "\n",
       "    .dataframe tbody tr th {\n",
       "        vertical-align: top;\n",
       "    }\n",
       "\n",
       "    .dataframe thead th {\n",
       "        text-align: right;\n",
       "    }\n",
       "</style>\n",
       "<table border=\"1\" class=\"dataframe\">\n",
       "  <thead>\n",
       "    <tr style=\"text-align: right;\">\n",
       "      <th></th>\n",
       "      <th>price_in_lakhs</th>\n",
       "    </tr>\n",
       "  </thead>\n",
       "  <tbody>\n",
       "    <tr>\n",
       "      <th>count</th>\n",
       "      <td>5436.000000</td>\n",
       "    </tr>\n",
       "    <tr>\n",
       "      <th>mean</th>\n",
       "      <td>11.495773</td>\n",
       "    </tr>\n",
       "    <tr>\n",
       "      <th>std</th>\n",
       "      <td>19.540507</td>\n",
       "    </tr>\n",
       "    <tr>\n",
       "      <th>min</th>\n",
       "      <td>0.000350</td>\n",
       "    </tr>\n",
       "    <tr>\n",
       "      <th>25%</th>\n",
       "      <td>3.130000</td>\n",
       "    </tr>\n",
       "    <tr>\n",
       "      <th>50%</th>\n",
       "      <td>5.500000</td>\n",
       "    </tr>\n",
       "    <tr>\n",
       "      <th>75%</th>\n",
       "      <td>10.202500</td>\n",
       "    </tr>\n",
       "    <tr>\n",
       "      <th>max</th>\n",
       "      <td>192.000000</td>\n",
       "    </tr>\n",
       "  </tbody>\n",
       "</table>\n",
       "</div>"
      ],
      "text/plain": [
       "       price_in_lakhs\n",
       "count     5436.000000\n",
       "mean        11.495773\n",
       "std         19.540507\n",
       "min          0.000350\n",
       "25%          3.130000\n",
       "50%          5.500000\n",
       "75%         10.202500\n",
       "max        192.000000"
      ]
     },
     "execution_count": 95,
     "metadata": {},
     "output_type": "execute_result"
    }
   ],
   "source": [
    "cdf['price_in_lakhs'].describe().to_frame()"
   ]
  },
  {
   "cell_type": "markdown",
   "id": "913e8d00",
   "metadata": {},
   "source": [
    "### kms_driven"
   ]
  },
  {
   "cell_type": "markdown",
   "id": "7422bc67",
   "metadata": {},
   "source": [
    "d"
   ]
  },
  {
   "cell_type": "code",
   "execution_count": 96,
   "id": "a3d3cd75",
   "metadata": {},
   "outputs": [
    {
     "data": {
      "text/plain": [
       "<AxesSubplot:xlabel='kms_driven'>"
      ]
     },
     "execution_count": 96,
     "metadata": {},
     "output_type": "execute_result"
    },
    {
     "data": {
      "image/png": "[encoded data removed]",
      "text/plain": [
       "<Figure size 1224x864 with 2 Axes>"
      ]
     },
     "metadata": {
      "needs_background": "light"
     },
     "output_type": "display_data"
    }
   ],
   "source": [
    "plt.figure(figsize=(17,12))\n",
    "plt.subplot(211)\n",
    "sns.distplot(cdf['kms_driven'])\n",
    "\n",
    "plt.subplot(212)\n",
    "sns.boxplot(cdf['kms_driven'])"
   ]
  },
  {
   "cell_type": "markdown",
   "id": "c96753b1",
   "metadata": {},
   "source": [
    "### ownership"
   ]
  },
  {
   "cell_type": "code",
   "execution_count": 72,
   "id": "e102f18a",
   "metadata": {},
   "outputs": [
    {
     "data": {
      "text/plain": [
       "<AxesSubplot:xlabel='Count', ylabel='ownership'>"
      ]
     },
     "execution_count": 72,
     "metadata": {},
     "output_type": "execute_result"
    },
    {
     "data": {
      "image/png": "[encoded data removed]",
      "text/plain": [
       "<Figure size 1080x288 with 1 Axes>"
      ]
     },
     "metadata": {
      "needs_background": "light"
     },
     "output_type": "display_data"
    }
   ],
   "source": [
    "plt.figure(figsize=(15,4))\n",
    "sns.histplot(y=cdf['ownership'])"
   ]
  },
  {
   "cell_type": "code",
   "execution_count": 73,
   "id": "04e91fe8",
   "metadata": {},
   "outputs": [
    {
     "data": {
      "text/plain": [
       "1    3678\n",
       "2    1298\n",
       "3     358\n",
       "4      84\n",
       "5      12\n",
       "0       6\n",
       "Name: ownership, dtype: int64"
      ]
     },
     "execution_count": 73,
     "metadata": {},
     "output_type": "execute_result"
    }
   ],
   "source": [
    "cdf['ownership'].value_counts()"
   ]
  },
  {
   "cell_type": "markdown",
   "id": "c22884fe",
   "metadata": {},
   "source": [
    "### manufacture"
   ]
  },
  {
   "cell_type": "code",
   "execution_count": 97,
   "id": "4a6f4998",
   "metadata": {},
   "outputs": [
    {
     "data": {
      "text/plain": [
       "<AxesSubplot:xlabel='manufacture', ylabel='Density'>"
      ]
     },
     "execution_count": 97,
     "metadata": {},
     "output_type": "execute_result"
    },
    {
     "data": {
      "image/png": "[encoded data removed]",
      "text/plain": [
       "<Figure size 1080x648 with 2 Axes>"
      ]
     },
     "metadata": {
      "needs_background": "light"
     },
     "output_type": "display_data"
    }
   ],
   "source": [
    "plt.figure(figsize=(15,9))\n",
    "plt.subplot(211)\n",
    "sns.histplot(y=cdf['manufacture'])\n",
    "\n",
    "plt.subplot(212)\n",
    "sns.distplot(cdf['manufacture'])"
   ]
  },
  {
   "cell_type": "code",
   "execution_count": 75,
   "id": "f8d36031",
   "metadata": {
    "scrolled": true
   },
   "outputs": [
    {
     "data": {
      "text/plain": [
       "2017    608\n",
       "2015    522\n",
       "2018    517\n",
       "2019    486\n",
       "2016    459\n",
       "2014    457\n",
       "2013    368\n",
       "2020    343\n",
       "2021    338\n",
       "2012    299\n",
       "2011    258\n",
       "2010    217\n",
       "2022    142\n",
       "2009    132\n",
       "2008    113\n",
       "2007     60\n",
       "2006     42\n",
       "2005     28\n",
       "2004     16\n",
       "2002     13\n",
       "2003      8\n",
       "2000      4\n",
       "1998      2\n",
       "2001      2\n",
       "1995      1\n",
       "1999      1\n",
       "Name: manufacture, dtype: int64"
      ]
     },
     "execution_count": 75,
     "metadata": {},
     "output_type": "execute_result"
    }
   ],
   "source": [
    "cdf['manufacture'].value_counts()"
   ]
  },
  {
   "cell_type": "markdown",
   "id": "fcde32a0",
   "metadata": {},
   "source": [
    "### engine_cc"
   ]
  },
  {
   "cell_type": "code",
   "execution_count": 98,
   "id": "85e4e51d",
   "metadata": {},
   "outputs": [
    {
     "data": {
      "text/plain": [
       "<AxesSubplot:xlabel='Count', ylabel='engine_cc'>"
      ]
     },
     "execution_count": 98,
     "metadata": {},
     "output_type": "execute_result"
    },
    {
     "data": {
      "image/png": "[encoded data removed]",
      "text/plain": [
       "<Figure size 1224x1008 with 3 Axes>"
      ]
     },
     "metadata": {
      "needs_background": "light"
     },
     "output_type": "display_data"
    }
   ],
   "source": [
    "plt.figure(figsize=(17,14))\n",
    "plt.subplot(311)\n",
    "sns.distplot(cdf['engine_cc'])\n",
    "\n",
    "plt.subplot(312)\n",
    "sns.boxplot(cdf['engine_cc'])\n",
    "\n",
    "plt.subplot(313)\n",
    "sns.histplot(y=cdf['engine_cc'])"
   ]
  },
  {
   "cell_type": "code",
   "execution_count": 77,
   "id": "817cb629",
   "metadata": {},
   "outputs": [
    {
     "data": {
      "text/plain": [
       "139"
      ]
     },
     "execution_count": 77,
     "metadata": {},
     "output_type": "execute_result"
    }
   ],
   "source": [
    "len(cdf['engine_cc'].value_counts())"
   ]
  },
  {
   "cell_type": "markdown",
   "id": "c710acb0",
   "metadata": {},
   "source": [
    "### Seats"
   ]
  },
  {
   "cell_type": "code",
   "execution_count": 99,
   "id": "cfb928c7",
   "metadata": {},
   "outputs": [
    {
     "data": {
      "text/plain": [
       "<AxesSubplot:xlabel='Seats', ylabel='Density'>"
      ]
     },
     "execution_count": 99,
     "metadata": {},
     "output_type": "execute_result"
    },
    {
     "data": {
      "image/png": "[encoded data removed]",
      "text/plain": [
       "<Figure size 1080x648 with 2 Axes>"
      ]
     },
     "metadata": {
      "needs_background": "light"
     },
     "output_type": "display_data"
    }
   ],
   "source": [
    "plt.figure(figsize=(15,9))\n",
    "plt.subplot(211)\n",
    "sns.histplot(y=cdf['Seats'])\n",
    "\n",
    "plt.subplot(212)\n",
    "sns.distplot(cdf['Seats'])"
   ]
  },
  {
   "cell_type": "code",
   "execution_count": 79,
   "id": "35024050",
   "metadata": {},
   "outputs": [
    {
     "name": "stdout",
     "output_type": "stream",
     "text": [
      "<class 'pandas.core.frame.DataFrame'>\n",
      "Int64Index: 5436 entries, 0 to 5511\n",
      "Data columns (total 9 columns):\n",
      " #   Column        Non-Null Count  Dtype \n",
      "---  ------        --------------  ----- \n",
      " 0   car_name      5436 non-null   object\n",
      " 1   price         5436 non-null   object\n",
      " 2   kms_driven    5436 non-null   object\n",
      " 3   fuel_type     5436 non-null   object\n",
      " 4   transmission  5436 non-null   object\n",
      " 5   ownership     5436 non-null   object\n",
      " 6   manufacture   5436 non-null   int64 \n",
      " 7   engine_cc     5436 non-null   object\n",
      " 8   Seats         5436 non-null   object\n",
      "dtypes: int64(1), object(8)\n",
      "memory usage: 553.7+ KB\n"
     ]
    }
   ],
   "source": [
    "df.info()"
   ]
  },
  {
   "cell_type": "markdown",
   "id": "f8d25086",
   "metadata": {},
   "source": [
    "# 8.BI-VARIATE ANALYSIS "
   ]
  },
  {
   "cell_type": "code",
   "execution_count": 80,
   "id": "b48b89b7",
   "metadata": {},
   "outputs": [
    {
     "name": "stdout",
     "output_type": "stream",
     "text": [
      "<class 'pandas.core.frame.DataFrame'>\n",
      "Int64Index: 5436 entries, 0 to 5511\n",
      "Data columns (total 11 columns):\n",
      " #   Column          Non-Null Count  Dtype  \n",
      "---  ------          --------------  -----  \n",
      " 0   Brand           5436 non-null   object \n",
      " 1   model           5436 non-null   object \n",
      " 2   price           5436 non-null   float64\n",
      " 3   kms_driven      5436 non-null   float64\n",
      " 4   fuel_type       5436 non-null   object \n",
      " 5   transmission    5436 non-null   object \n",
      " 6   ownership       5436 non-null   int64  \n",
      " 7   manufacture     5436 non-null   object \n",
      " 8   engine_cc       5436 non-null   float64\n",
      " 9   Seats           5436 non-null   int64  \n",
      " 10  price_in_lakhs  5436 non-null   float64\n",
      "dtypes: float64(4), int64(2), object(5)\n",
      "memory usage: 638.7+ KB\n"
     ]
    }
   ],
   "source": [
    "cdf.info()"
   ]
  },
  {
   "cell_type": "code",
   "execution_count": 81,
   "id": "83d47101",
   "metadata": {},
   "outputs": [
    {
     "data": {
      "text/plain": [
       "Index(['Brand', 'model', 'price', 'kms_driven', 'fuel_type', 'transmission',\n",
       "       'ownership', 'manufacture', 'engine_cc', 'Seats', 'price_in_lakhs'],\n",
       "      dtype='object')"
      ]
     },
     "execution_count": 81,
     "metadata": {},
     "output_type": "execute_result"
    }
   ],
   "source": [
    "cdf.columns"
   ]
  },
  {
   "cell_type": "markdown",
   "id": "29b1e4c4",
   "metadata": {},
   "source": [
    "## 8.1 Relation between Transmission and Price_in_lakhs by Fuel types"
   ]
  },
  {
   "cell_type": "code",
   "execution_count": 100,
   "id": "a1346d89",
   "metadata": {},
   "outputs": [
    {
     "data": {
      "text/plain": [
       "<AxesSubplot:xlabel='transmission', ylabel='price_in_lakhs'>"
      ]
     },
     "execution_count": 100,
     "metadata": {},
     "output_type": "execute_result"
    },
    {
     "data": {
      "image/png": "[encoded data removed]",
      "text/plain": [
       "<Figure size 432x288 with 1 Axes>"
      ]
     },
     "metadata": {
      "needs_background": "light"
     },
     "output_type": "display_data"
    }
   ],
   "source": [
    "sns.barplot(cdf['transmission'],cdf['price_in_lakhs'],hue=cdf['fuel_type'])"
   ]
  },
  {
   "cell_type": "markdown",
   "id": "3eea6d6e",
   "metadata": {},
   "source": [
    "Automatic Diesel cars has the highest average price is the market, while Manuel Lpg got the lowest average car price"
   ]
  },
  {
   "cell_type": "markdown",
   "id": "5a2b946f",
   "metadata": {},
   "source": [
    "## 8.2 Price_in_lakhs vs kms_driven"
   ]
  },
  {
   "cell_type": "code",
   "execution_count": 101,
   "id": "09d73125",
   "metadata": {},
   "outputs": [
    {
     "data": {
      "text/plain": [
       "<AxesSubplot:xlabel='price_in_lakhs', ylabel='kms_driven'>"
      ]
     },
     "execution_count": 101,
     "metadata": {},
     "output_type": "execute_result"
    },
    {
     "data": {
      "image/png": "[encoded data removed]",
      "text/plain": [
       "<Figure size 432x288 with 1 Axes>"
      ]
     },
     "metadata": {
      "needs_background": "light"
     },
     "output_type": "display_data"
    }
   ],
   "source": [
    "sns.scatterplot(cdf['price_in_lakhs'],cdf['kms_driven'])"
   ]
  },
  {
   "cell_type": "markdown",
   "id": "6b0d997a",
   "metadata": {},
   "source": [
    "By observing the above plot we can observe that the highest kilometres driven the price will be less."
   ]
  },
  {
   "cell_type": "markdown",
   "id": "72d327ac",
   "metadata": {},
   "source": [
    "## 8.3 Manufacture Vs price_in_lakhs"
   ]
  },
  {
   "cell_type": "code",
   "execution_count": 102,
   "id": "2022c8d0",
   "metadata": {},
   "outputs": [
    {
     "data": {
      "text/plain": [
       "<function matplotlib.pyplot.show(close=None, block=None)>"
      ]
     },
     "execution_count": 102,
     "metadata": {},
     "output_type": "execute_result"
    },
    {
     "data": {
      "image/png": "[encoded data removed]",
      "text/plain": [
       "<Figure size 432x288 with 1 Axes>"
      ]
     },
     "metadata": {
      "needs_background": "light"
     },
     "output_type": "display_data"
    }
   ],
   "source": [
    "sns.barplot(cdf['manufacture'],cdf['price_in_lakhs'])\n",
    "plt.xticks(rotation=\"vertical\")\n",
    "plt.show"
   ]
  },
  {
   "cell_type": "markdown",
   "id": "e9da0159",
   "metadata": {},
   "source": [
    "A rise in manufacture year leads to increase in price."
   ]
  },
  {
   "cell_type": "markdown",
   "id": "c62d107d",
   "metadata": {},
   "source": [
    "## 8.4 Seats Vs Price_in_lakhs"
   ]
  },
  {
   "cell_type": "code",
   "execution_count": 103,
   "id": "daba8b80",
   "metadata": {},
   "outputs": [
    {
     "data": {
      "text/plain": [
       "<AxesSubplot:xlabel='Seats', ylabel='price_in_lakhs'>"
      ]
     },
     "execution_count": 103,
     "metadata": {},
     "output_type": "execute_result"
    },
    {
     "data": {
      "image/png": "[encoded data removed]",
      "text/plain": [
       "<Figure size 432x288 with 1 Axes>"
      ]
     },
     "metadata": {
      "needs_background": "light"
     },
     "output_type": "display_data"
    }
   ],
   "source": [
    "sns.barplot(cdf['Seats'],cdf['price_in_lakhs'])"
   ]
  },
  {
   "cell_type": "markdown",
   "id": "25f8d157",
   "metadata": {},
   "source": [
    "The cars with 4Seats Capacity has highest price in Market."
   ]
  },
  {
   "cell_type": "markdown",
   "id": "a11382b9",
   "metadata": {},
   "source": [
    "## 8.5 Ownership Vs Price_in_lakhs\n"
   ]
  },
  {
   "cell_type": "code",
   "execution_count": 104,
   "id": "1f24b191",
   "metadata": {},
   "outputs": [
    {
     "data": {
      "text/plain": [
       "<function matplotlib.pyplot.show(close=None, block=None)>"
      ]
     },
     "execution_count": 104,
     "metadata": {},
     "output_type": "execute_result"
    },
    {
     "data": {
      "image/png": "[encoded data removed]",
      "text/plain": [
       "<Figure size 432x288 with 1 Axes>"
      ]
     },
     "metadata": {
      "needs_background": "light"
     },
     "output_type": "display_data"
    }
   ],
   "source": [
    "sns.barplot(cdf['ownership'],cdf['price_in_lakhs'])\n",
    "plt.xticks(rotation=\"vertical\")\n",
    "plt.show"
   ]
  },
  {
   "cell_type": "markdown",
   "id": "591e1148",
   "metadata": {},
   "source": [
    "The above plot represents if there are more owners the price of the vehicle will get decreased."
   ]
  },
  {
   "cell_type": "markdown",
   "id": "0be50a24",
   "metadata": {},
   "source": [
    "## 8.6 Relation between fuel type and Average price_in_lakhs"
   ]
  },
  {
   "cell_type": "code",
   "execution_count": 105,
   "id": "c4515a8d",
   "metadata": {},
   "outputs": [
    {
     "data": {
      "text/plain": [
       "<AxesSubplot:xlabel='fuel_type', ylabel='price_in_lakhs'>"
      ]
     },
     "execution_count": 105,
     "metadata": {},
     "output_type": "execute_result"
    },
    {
     "data": {
      "image/png": "[encoded data removed]",
      "text/plain": [
       "<Figure size 432x288 with 1 Axes>"
      ]
     },
     "metadata": {
      "needs_background": "light"
     },
     "output_type": "display_data"
    }
   ],
   "source": [
    "cdf.groupby('fuel_type').agg({'price_in_lakhs':'mean'}).sort_values('price_in_lakhs', ascending=False)\n",
    "sns.barplot(cdf['fuel_type'],cdf['price_in_lakhs'])\n"
   ]
  },
  {
   "cell_type": "markdown",
   "id": "0c99e79e",
   "metadata": {},
   "source": [
    "The above bar plot represents the Diesel fuel type vehicles are high in mean price when compared to other fuel types."
   ]
  },
  {
   "cell_type": "markdown",
   "id": "ba7093b1",
   "metadata": {},
   "source": [
    "## 8.7 Engine_cc Vs Price_in_lakhs"
   ]
  },
  {
   "cell_type": "code",
   "execution_count": 106,
   "id": "f996e3f1",
   "metadata": {},
   "outputs": [
    {
     "data": {
      "text/plain": [
       "<AxesSubplot:xlabel='engine_cc', ylabel='price_in_lakhs'>"
      ]
     },
     "execution_count": 106,
     "metadata": {},
     "output_type": "execute_result"
    },
    {
     "data": {
      "image/png": "[encoded data removed]",
      "text/plain": [
       "<Figure size 432x288 with 1 Axes>"
      ]
     },
     "metadata": {
      "needs_background": "light"
     },
     "output_type": "display_data"
    }
   ],
   "source": [
    "sns.scatterplot(cdf['engine_cc'],cdf['price_in_lakhs'])"
   ]
  },
  {
   "cell_type": "markdown",
   "id": "252907a1",
   "metadata": {},
   "source": [
    "## 8.8 Brand  Vs Price_in_lakhs"
   ]
  },
  {
   "cell_type": "code",
   "execution_count": 110,
   "id": "c370fb72",
   "metadata": {},
   "outputs": [
    {
     "data": {
      "text/plain": [
       "<function matplotlib.pyplot.show(close=None, block=None)>"
      ]
     },
     "execution_count": 110,
     "metadata": {},
     "output_type": "execute_result"
    },
    {
     "data": {
      "image/png": "[encoded data removed]",
      "text/plain": [
       "<Figure size 432x288 with 1 Axes>"
      ]
     },
     "metadata": {
      "needs_background": "light"
     },
     "output_type": "display_data"
    }
   ],
   "source": [
    "sns.barplot(cdf['Brand'],cdf['price_in_lakhs'])\n",
    "plt.xticks(rotation=\"vertical\")\n",
    "plt.show"
   ]
  },
  {
   "cell_type": "code",
   "execution_count": null,
   "id": "ab735e98",
   "metadata": {},
   "outputs": [],
   "source": []
  },
  {
   "cell_type": "code",
   "execution_count": null,
   "id": "30c8ae4b",
   "metadata": {},
   "outputs": [],
   "source": []
  },
  {
   "cell_type": "code",
   "execution_count": null,
   "id": "1cf03249",
   "metadata": {},
   "outputs": [],
   "source": []
  },
  {
   "cell_type": "code",
   "execution_count": null,
   "id": "16ea916f",
   "metadata": {},
   "outputs": [],
   "source": []
  }
 ],
 "metadata": {
  "kernelspec": {
   "display_name": "Python 3 (ipykernel)",
   "language": "python",
   "name": "python3"
  },
  "language_info": {
   "codemirror_mode": {
    "name": "ipython",
    "version": 3
   },
   "file_extension": ".py",
   "mimetype": "text/x-python",
   "name": "python",
   "nbconvert_exporter": "python",
   "pygments_lexer": "ipython3",
   "version": "3.9.12"
  }
 },
 "nbformat": 4,
 "nbformat_minor": 5
}
